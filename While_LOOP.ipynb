{
 "cells": [
  {
   "cell_type": "code",
   "execution_count": 1,
   "metadata": {},
   "outputs": [
    {
     "name": "stdout",
     "output_type": "stream",
     "text": [
      "Hello Netra\n"
     ]
    }
   ],
   "source": [
    "name = input(\"Enter Your name: \")\n",
    "while name == \"\":\n",
    "    print(\"You did not enter you name. \")\n",
    "    name = input(\"Enter Your name: \")\n",
    "print(f\"Hello {name}\")"
   ]
  },
  {
   "cell_type": "code",
   "execution_count": 3,
   "metadata": {},
   "outputs": [
    {
     "name": "stdout",
     "output_type": "stream",
     "text": [
      "Your age is 35 years old. \n"
     ]
    }
   ],
   "source": [
    "age = int(input(\"Enter your age: \"))\n",
    "\n",
    "while age <0:\n",
    "    print(\"Age can't be negative\")\n",
    "    age = int(input(\"Enter your age: \"))\n",
    "print(f\"Your age is {age} years old. \")\n"
   ]
  },
  {
   "cell_type": "code",
   "execution_count": 4,
   "metadata": {},
   "outputs": [
    {
     "name": "stdout",
     "output_type": "stream",
     "text": [
      "You like pizza\n",
      "Bye\n"
     ]
    }
   ],
   "source": [
    "food = input(\"Enter áfood you like (q to quite): \")\n",
    "\n",
    "while not food == \"q\":\n",
    "    print(f\"You like {food}\")\n",
    "    food = input(\"Enter áfood you like (q to quite): \")\n",
    "print(\"Bye\")\n",
    "\n"
   ]
  },
  {
   "cell_type": "code",
   "execution_count": 5,
   "metadata": {},
   "outputs": [
    {
     "name": "stdout",
     "output_type": "stream",
     "text": [
      "Mo:Mo\n",
      "Tandoori\n",
      "Chicken\n",
      "Motton\n",
      "thali set\n"
     ]
    }
   ],
   "source": [
    "#Simple Loops \n",
    "foods = ['Mo:Mo', 'Tandoori', 'Chicken', 'Motton', 'thali set']\n",
    "for item in foods:\n",
    "    print(item)"
   ]
  },
  {
   "cell_type": "code",
   "execution_count": 8,
   "metadata": {},
   "outputs": [
    {
     "name": "stdout",
     "output_type": "stream",
     "text": [
      "0\n",
      "1\n",
      "2\n",
      "3\n",
      "4\n"
     ]
    }
   ],
   "source": [
    "#Loop control statements\n",
    "#Using break\n",
    "for num in range(10):\n",
    "    if num == 5:\n",
    "        break\n",
    "    print(num)"
   ]
  },
  {
   "cell_type": "code",
   "execution_count": 9,
   "metadata": {},
   "outputs": [
    {
     "name": "stdout",
     "output_type": "stream",
     "text": [
      "1\n",
      "3\n",
      "5\n",
      "7\n",
      "9\n",
      "11\n",
      "13\n",
      "15\n",
      "17\n",
      "19\n",
      "21\n",
      "23\n",
      "25\n",
      "27\n",
      "29\n"
     ]
    }
   ],
   "source": [
    "#Using Continue \n",
    "for num in range(30):\n",
    "    if num % 2 == 0:\n",
    "        continue\n",
    "    print(num)"
   ]
  },
  {
   "cell_type": "code",
   "execution_count": 10,
   "metadata": {},
   "outputs": [],
   "source": [
    "#Note\n",
    "#break: Exits the loop prematurely.\n",
    "#continue: Skips the current iteration and moves to the next one.\n",
    "#pass: Acts as a placeholder, allowing you to write empty loops."
   ]
  },
  {
   "cell_type": "code",
   "execution_count": 11,
   "metadata": {},
   "outputs": [],
   "source": [
    "#Using Pass\n",
    "for _ in range(11):\n",
    "    pass "
   ]
  },
  {
   "cell_type": "code",
   "execution_count": 12,
   "metadata": {},
   "outputs": [
    {
     "name": "stdout",
     "output_type": "stream",
     "text": [
      "* \n",
      "* * \n",
      "* * * \n",
      "* * * * \n",
      "* * * * * \n",
      "* * * * * * \n",
      "* * * * * * * \n",
      "* * * * * * * * \n",
      "* * * * * * * * * \n",
      "* * * * * * * * * * \n",
      "* * * * * * * * * * * \n",
      "* * * * * * * * * * * * \n",
      "* * * * * * * * * * * * * \n",
      "* * * * * * * * * * * * * * \n",
      "* * * * * * * * * * * * * * * \n",
      "* * * * * * * * * * * * * * * * \n",
      "* * * * * * * * * * * * * * * * * \n",
      "* * * * * * * * * * * * * * * * * * \n",
      "* * * * * * * * * * * * * * * * * * * \n",
      "* * * * * * * * * * * * * * * * * * * * \n",
      "* * * * * * * * * * * * * * * * * * * * * \n",
      "* * * * * * * * * * * * * * * * * * * * * * \n",
      "* * * * * * * * * * * * * * * * * * * * * * * \n",
      "* * * * * * * * * * * * * * * * * * * * * * * * \n",
      "* * * * * * * * * * * * * * * * * * * * * * * * * \n",
      "* * * * * * * * * * * * * * * * * * * * * * * * * * \n",
      "* * * * * * * * * * * * * * * * * * * * * * * * * * * \n",
      "* * * * * * * * * * * * * * * * * * * * * * * * * * * * \n",
      "* * * * * * * * * * * * * * * * * * * * * * * * * * * * * \n",
      "* * * * * * * * * * * * * * * * * * * * * * * * * * * * * * \n",
      "* * * * * * * * * * * * * * * * * * * * * * * * * * * * * * * \n",
      "* * * * * * * * * * * * * * * * * * * * * * * * * * * * * * * * \n",
      "* * * * * * * * * * * * * * * * * * * * * * * * * * * * * * * * * \n",
      "* * * * * * * * * * * * * * * * * * * * * * * * * * * * * * * * * * \n",
      "* * * * * * * * * * * * * * * * * * * * * * * * * * * * * * * * * * * \n",
      "* * * * * * * * * * * * * * * * * * * * * * * * * * * * * * * * * * * * \n",
      "* * * * * * * * * * * * * * * * * * * * * * * * * * * * * * * * * * * * * \n",
      "* * * * * * * * * * * * * * * * * * * * * * * * * * * * * * * * * * * * * * \n",
      "* * * * * * * * * * * * * * * * * * * * * * * * * * * * * * * * * * * * * * * \n",
      "* * * * * * * * * * * * * * * * * * * * * * * * * * * * * * * * * * * * * * * * \n",
      "* * * * * * * * * * * * * * * * * * * * * * * * * * * * * * * * * * * * * * * * * \n",
      "* * * * * * * * * * * * * * * * * * * * * * * * * * * * * * * * * * * * * * * * * * \n",
      "* * * * * * * * * * * * * * * * * * * * * * * * * * * * * * * * * * * * * * * * * * * \n",
      "* * * * * * * * * * * * * * * * * * * * * * * * * * * * * * * * * * * * * * * * * * * * \n",
      "* * * * * * * * * * * * * * * * * * * * * * * * * * * * * * * * * * * * * * * * * * * * * \n",
      "* * * * * * * * * * * * * * * * * * * * * * * * * * * * * * * * * * * * * * * * * * * * * * \n",
      "* * * * * * * * * * * * * * * * * * * * * * * * * * * * * * * * * * * * * * * * * * * * * * * \n",
      "* * * * * * * * * * * * * * * * * * * * * * * * * * * * * * * * * * * * * * * * * * * * * * * * \n",
      "* * * * * * * * * * * * * * * * * * * * * * * * * * * * * * * * * * * * * * * * * * * * * * * * * \n",
      "* * * * * * * * * * * * * * * * * * * * * * * * * * * * * * * * * * * * * * * * * * * * * * * * * * \n"
     ]
    }
   ],
   "source": [
    "#Nested Loops....printing a pattern\n",
    "for i in range(50):\n",
    "    for j in range(i + 1):\n",
    "        print(\"*\", end= \" \")\n",
    "    print()"
   ]
  },
  {
   "cell_type": "code",
   "execution_count": 15,
   "metadata": {},
   "outputs": [
    {
     "name": "stdout",
     "output_type": "stream",
     "text": [
      "Name: Netra\n",
      "age: 32\n",
      "Marital Status: unmarried\n",
      "City: Lalitpur\n"
     ]
    }
   ],
   "source": [
    "#Looping through dictionary \n",
    "person = {\"Name\": \"Netra\", \"age\": 32, \"Marital Status\": \"unmarried\", \"City\": \"Lalitpur\"}\n",
    "for key, value in person.items():\n",
    "    print(f\"{key}: {value}\")"
   ]
  },
  {
   "cell_type": "code",
   "execution_count": 16,
   "metadata": {},
   "outputs": [
    {
     "name": "stdout",
     "output_type": "stream",
     "text": [
      "Name\n",
      "age\n",
      "Marital Status\n",
      "City\n"
     ]
    }
   ],
   "source": [
    "#Looping through key only\n",
    "for key in person:\n",
    "    print(key)"
   ]
  },
  {
   "cell_type": "code",
   "execution_count": 18,
   "metadata": {},
   "outputs": [
    {
     "name": "stdout",
     "output_type": "stream",
     "text": [
      "Netra\n",
      "32\n",
      "unmarried\n",
      "Lalitpur\n"
     ]
    }
   ],
   "source": [
    "#Looping through values only\n",
    "for value in person.values():\n",
    "    print(value)"
   ]
  },
  {
   "cell_type": "code",
   "execution_count": 19,
   "metadata": {},
   "outputs": [
    {
     "name": "stdout",
     "output_type": "stream",
     "text": [
      "50, 51, 52, 53, 54, 55, 56, 57, 58, 59, 60, 61, 62, 63, 64, 65, 66, 67, 68, 69, 70, 71, 72, 73, 74, 75, 76, 77, 78, 79, 80, 81, 82, 83, 84, 85, 86, 87, 88, 89, 90, 91, 92, 93, 94, 95, 96, 97, 98, 99, "
     ]
    }
   ],
   "source": [
    "#Looping with range\n",
    "for num in range(50, 100):\n",
    "    print(num, end = \", \")"
   ]
  },
  {
   "cell_type": "code",
   "execution_count": 24,
   "metadata": {},
   "outputs": [],
   "source": [
    "#The range() function is commonly used in loops to generate a sequence of numbers."
   ]
  },
  {
   "cell_type": "code",
   "execution_count": 20,
   "metadata": {},
   "outputs": [
    {
     "name": "stdout",
     "output_type": "stream",
     "text": [
      "10, 15, 20, 25, 30, 35, 40, 45, 50, 55, 60, 65, 70, 75, 80, 85, 90, 95, "
     ]
    }
   ],
   "source": [
    "#with some steps\n",
    "for num in range(10, 100, 5):\n",
    "    print(num, end= \", \")"
   ]
  },
  {
   "cell_type": "code",
   "execution_count": 21,
   "metadata": {},
   "outputs": [
    {
     "name": "stdout",
     "output_type": "stream",
     "text": [
      "100, 95, 90, 85, 80, 75, 70, 65, 60, 55, 50, 45, 40, 35, 30, 25, 20, 15, "
     ]
    }
   ],
   "source": [
    "#In Reverse order: \n",
    "for num in range(100, 10, -5):\n",
    "    print(num, end=\", \")"
   ]
  },
  {
   "cell_type": "code",
   "execution_count": 23,
   "metadata": {},
   "outputs": [
    {
     "name": "stdout",
     "output_type": "stream",
     "text": [
      "Index 0: Mo:Mo\n",
      "Index 1: Tandoori\n",
      "Index 2: Chicken\n",
      "Index 3: Motton\n",
      "Index 4: thali set\n"
     ]
    }
   ],
   "source": [
    "#Enumerating: The enumerate() function is used to loop through a sequence while keeping track of the index.\n",
    "foods = ['Mo:Mo', 'Tandoori', 'Chicken', 'Motton', 'thali set']\n",
    "for index, food in enumerate(foods):\n",
    "    print(f\"Index {index}: {food}\")"
   ]
  },
  {
   "cell_type": "code",
   "execution_count": 34,
   "metadata": {},
   "outputs": [
    {
     "name": "stdout",
     "output_type": "stream",
     "text": [
      "[1, 4, 9, 16, 25, 36, 49, 64, 81]\n"
     ]
    }
   ],
   "source": [
    "#Looping with lists comprehensions\n",
    "#List comprehensions provide a concise way to create lists. They use loops to generate the list's elements.\n",
    "squares = [x**2 for x in range(1, 10)]\n",
    "print(squares)"
   ]
  },
  {
   "cell_type": "code",
   "execution_count": 27,
   "metadata": {},
   "outputs": [
    {
     "name": "stdout",
     "output_type": "stream",
     "text": [
      "[1, 8, 27, 64, 125, 216, 343, 512, 729]\n"
     ]
    }
   ],
   "source": [
    "cubes = [x**3 for x in range(1, 10)]\n",
    "print(cubes)"
   ]
  },
  {
   "cell_type": "code",
   "execution_count": 32,
   "metadata": {},
   "outputs": [
    {
     "name": "stdout",
     "output_type": "stream",
     "text": [
      "[1.0, 1.4142135623730951, 1.7320508075688772, 2.0, 2.23606797749979, 2.449489742783178, 2.6457513110645907, 2.8284271247461903, 3.0]\n"
     ]
    }
   ],
   "source": [
    "import math\n",
    "sqrts = [math.sqrt(x) for x in range(1, 10)]\n",
    "print(sqrts)"
   ]
  },
  {
   "cell_type": "code",
   "execution_count": 33,
   "metadata": {},
   "outputs": [
    {
     "name": "stdout",
     "output_type": "stream",
     "text": [
      "[3.684031498640387, 3.708429769266189, 3.732511156817248, 3.7562857542210724, 3.7797631496846193, 3.802952460761392, 3.8258623655447783, 3.848501131276805, 3.870876640627797, 3.8929964158732604, 3.9148676411688634, 3.9364971831021736, 3.9578916096804058, 3.9790572078963917, 4.0, 4.020725758589058, 4.04124002062219, 4.06154810044568, 4.081655101917348, 4.101565929702348]\n"
     ]
    }
   ],
   "source": [
    "cbrts = [math.cbrt(x) for x in range(50, 70)]\n",
    "print(cbrts)"
   ]
  },
  {
   "cell_type": "code",
   "execution_count": 36,
   "metadata": {},
   "outputs": [
    {
     "name": "stdout",
     "output_type": "stream",
     "text": [
      "Netra is 33 years old\n",
      "Kumar is 39 years old\n",
      "Manandhar is 40 years old\n"
     ]
    }
   ],
   "source": [
    "#looping with zip\n",
    "#The zip() function is used to loop through multiple sequences simultaneously.\n",
    "names = [\"Netra\", \"Kumar\", \"Manandhar\"]\n",
    "ages = [33, 39, 40]\n",
    "for name, age in zip(names, ages):\n",
    "    print(f\"{name} is {age} years old\")"
   ]
  },
  {
   "cell_type": "code",
   "execution_count": 1,
   "metadata": {},
   "outputs": [
    {
     "name": "stdout",
     "output_type": "stream",
     "text": [
      "Number:  0\n",
      "Number:  1\n",
      "Number:  2\n",
      "Number:  3\n",
      "Number:  4\n",
      "Number:  5\n",
      "Number:  6\n",
      "Number:  7\n",
      "Number:  8\n",
      "Good Bye :)\n"
     ]
    }
   ],
   "source": [
    "count = 0\n",
    "while count<9:\n",
    "    print(\"Number: \", count)\n",
    "    count = count + 1\n",
    "print(\"Good Bye :)\")"
   ]
  },
  {
   "cell_type": "code",
   "execution_count": 2,
   "metadata": {},
   "outputs": [
    {
     "name": "stdout",
     "output_type": "stream",
     "text": [
      "Number:  0, Number:  1, Number:  2, Number:  3, Number:  4, Number:  5, Number:  6, Number:  7, Number:  8, Number:  9, Number:  10, Number:  11, Number:  12, Number:  13, Number:  14, Number:  15, Number:  16, Number:  17, Number:  18, Number:  19, Good Bye\n"
     ]
    }
   ],
   "source": [
    "count = 0\n",
    "while count <20:\n",
    "    print(\"Number: \", count, end= \", \")\n",
    "    count = count + 1\n",
    "print(\"Good Bye\")"
   ]
  },
  {
   "cell_type": "code",
   "execution_count": 3,
   "metadata": {},
   "outputs": [
    {
     "name": "stdout",
     "output_type": "stream",
     "text": [
      "0\n",
      "1\n",
      "2\n",
      "3\n",
      "4\n",
      "5\n",
      "6\n",
      "7\n",
      "8\n",
      "9\n"
     ]
    }
   ],
   "source": [
    "#Basic For Loops \n",
    "for i in range(10):\n",
    "    print(i)\n"
   ]
  },
  {
   "cell_type": "code",
   "execution_count": 4,
   "metadata": {},
   "outputs": [
    {
     "name": "stdout",
     "output_type": "stream",
     "text": [
      "0, 1, 2, 3, 4, 5, 6, 7, 8, 9, 10, "
     ]
    }
   ],
   "source": [
    "for i in range(11):\n",
    "    print(i, end=\", \")"
   ]
  },
  {
   "cell_type": "code",
   "execution_count": 6,
   "metadata": {},
   "outputs": [
    {
     "name": "stdout",
     "output_type": "stream",
     "text": [
      "Netra, Kumar, 32, Lalitpur, Kathmandu, "
     ]
    }
   ],
   "source": [
    "#Looping through list\n",
    "netra = [\"Netra\", \"Kumar\", 32, \"Lalitpur\", \"Kathmandu\"]\n",
    "for item in netra:\n",
    "    print(item, end= \", \")"
   ]
  },
  {
   "cell_type": "code",
   "execution_count": 10,
   "metadata": {},
   "outputs": [
    {
     "name": "stdout",
     "output_type": "stream",
     "text": [
      "Index 0: Netra\n",
      "Index 1: Kumar\n",
      "Index 2: 32\n",
      "Index 3: Lalitpur\n",
      "Index 4: Kathmandu\n"
     ]
    }
   ],
   "source": [
    "#Using Enumerate\n",
    "for index, item in enumerate(netra):\n",
    "    print(f\"Index {index}: {item}\")"
   ]
  },
  {
   "cell_type": "code",
   "execution_count": 11,
   "metadata": {},
   "outputs": [
    {
     "name": "stdout",
     "output_type": "stream",
     "text": [
      "Index 0: Netra, Index 1: Kumar, Index 2: 32, Index 3: Lalitpur, Index 4: Kathmandu, "
     ]
    }
   ],
   "source": [
    "#Using Enumerate\n",
    "for index, item in enumerate(netra):\n",
    "    print(f\"Index {index}: {item}\", end=\", \")"
   ]
  },
  {
   "cell_type": "code",
   "execution_count": 12,
   "metadata": {},
   "outputs": [
    {
     "name": "stdout",
     "output_type": "stream",
     "text": [
      "N, e, t, r, a,  , K, u, m, a, r,  , M, a, n, a, n, d, h, a, r, "
     ]
    }
   ],
   "source": [
    "#Looping through a string\n",
    "words = \"Netra Kumar Manandhar\"\n",
    "for letter in words: \n",
    "    print(letter, end=\", \")"
   ]
  },
  {
   "cell_type": "code",
   "execution_count": 13,
   "metadata": {},
   "outputs": [
    {
     "name": "stdout",
     "output_type": "stream",
     "text": [
      "Name: Netra Kumar Manandhar\n",
      "age: 32\n",
      "city: Lalitpur\n",
      "District: kathamdnu\n"
     ]
    }
   ],
   "source": [
    "#Looping through a disctionary\n",
    "netraz = {\"Name\": \"Netra Kumar Manandhar\", \"age\": 32, \"city\": \"Lalitpur\", \"District\": \"kathamdnu\"}\n",
    "for key, value in netraz.items():\n",
    "    print(f\"{key}: {value}\")"
   ]
  },
  {
   "cell_type": "code",
   "execution_count": 15,
   "metadata": {},
   "outputs": [
    {
     "name": "stdout",
     "output_type": "stream",
     "text": [
      "Name\n",
      "age\n",
      "city\n",
      "District\n"
     ]
    }
   ],
   "source": [
    "#only values\n",
    "for value in netraz:\n",
    "    print(f\"{value}\")"
   ]
  },
  {
   "cell_type": "code",
   "execution_count": 16,
   "metadata": {},
   "outputs": [
    {
     "name": "stdout",
     "output_type": "stream",
     "text": [
      "Name\n",
      "age\n",
      "city\n",
      "District\n"
     ]
    }
   ],
   "source": [
    "#Only Key\n",
    "for key in netraz:\n",
    "    print(f\"{key}\")"
   ]
  },
  {
   "cell_type": "code",
   "execution_count": 18,
   "metadata": {},
   "outputs": [
    {
     "name": "stdout",
     "output_type": "stream",
     "text": [
      "0, 1, 2, 3, 4, 5, 6, 7, 8, 9, Good Bye\n"
     ]
    }
   ],
   "source": [
    "#While Loop\n",
    "#Basic\n",
    "count = 0\n",
    "while count <10:\n",
    "    print(count, end=\", \")\n",
    "    count +=1 #count = count + 1\n",
    "print(\"Good Bye\")"
   ]
  },
  {
   "cell_type": "code",
   "execution_count": 20,
   "metadata": {},
   "outputs": [
    {
     "name": "stdout",
     "output_type": "stream",
     "text": [
      "1\n",
      "2\n",
      "3\n",
      "4\n",
      "6\n",
      "7\n"
     ]
    }
   ],
   "source": [
    "#Using Break and Continue \n",
    "num = 0\n",
    "while num <20:\n",
    "    num = num + 1 #num += 1\n",
    "    if num == 5: \n",
    "        continue ## Skip rest of the loop and continue with the next iteration\n",
    "    if num == 8:\n",
    "        break #Exit the loop completely \n",
    "    print(num)"
   ]
  },
  {
   "cell_type": "code",
   "execution_count": 21,
   "metadata": {},
   "outputs": [
    {
     "name": "stdout",
     "output_type": "stream",
     "text": [
      "You entered: Netra\n"
     ]
    }
   ],
   "source": [
    "#Loop with User Input\n",
    "while True:\n",
    "    user_input = input(\"Enter 'q' to exit: \")\n",
    "    if user_input.lower() == 'q':\n",
    "        break\n",
    "    print(f\"You entered: {user_input}\")"
   ]
  },
  {
   "cell_type": "code",
   "execution_count": 25,
   "metadata": {},
   "outputs": [
    {
     "name": "stdout",
     "output_type": "stream",
     "text": [
      "Square of 66 is 4356\n"
     ]
    },
    {
     "ename": "ValueError",
     "evalue": "invalid literal for int() with base 10: 'e'",
     "output_type": "error",
     "traceback": [
      "\u001b[1;31m---------------------------------------------------------------------------\u001b[0m",
      "\u001b[1;31mValueError\u001b[0m                                Traceback (most recent call last)",
      "Cell \u001b[1;32mIn[25], line 5\u001b[0m\n\u001b[0;32m      3\u001b[0m \u001b[39mif\u001b[39;00m user_input\u001b[39m.\u001b[39mlower()\u001b[39m==\u001b[39m \u001b[39m'\u001b[39m\u001b[39mE\u001b[39m\u001b[39m'\u001b[39m:\n\u001b[0;32m      4\u001b[0m     \u001b[39mbreak\u001b[39;00m\n\u001b[1;32m----> 5\u001b[0m number \u001b[39m=\u001b[39m \u001b[39mint\u001b[39;49m(user_input)\n\u001b[0;32m      6\u001b[0m \u001b[39mprint\u001b[39m(\u001b[39mf\u001b[39m\u001b[39m\"\u001b[39m\u001b[39mSquare of \u001b[39m\u001b[39m{\u001b[39;00mnumber\u001b[39m}\u001b[39;00m\u001b[39m is \u001b[39m\u001b[39m{\u001b[39;00mnumber\u001b[39m \u001b[39m\u001b[39m*\u001b[39m\u001b[39m*\u001b[39m\u001b[39m2\u001b[39m\u001b[39m}\u001b[39;00m\u001b[39m\"\u001b[39m)\n",
      "\u001b[1;31mValueError\u001b[0m: invalid literal for int() with base 10: 'e'"
     ]
    }
   ],
   "source": [
    "while True:\n",
    "    user_input = input(\"Enter a number of 'E' to exit\")\n",
    "    if user_input.lower()== 'E':\n",
    "        break\n",
    "    number = int(user_input)\n",
    "    print(f\"Square of {number} is {number **2}\")"
   ]
  },
  {
   "cell_type": "code",
   "execution_count": null,
   "metadata": {},
   "outputs": [],
   "source": []
  }
 ],
 "metadata": {
  "kernelspec": {
   "display_name": "Python 3",
   "language": "python",
   "name": "python3"
  },
  "language_info": {
   "codemirror_mode": {
    "name": "ipython",
    "version": 3
   },
   "file_extension": ".py",
   "mimetype": "text/x-python",
   "name": "python",
   "nbconvert_exporter": "python",
   "pygments_lexer": "ipython3",
   "version": "3.11.4"
  },
  "orig_nbformat": 4
 },
 "nbformat": 4,
 "nbformat_minor": 2
}
