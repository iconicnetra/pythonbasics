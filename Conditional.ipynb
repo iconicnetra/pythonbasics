{
 "cells": [
  {
   "cell_type": "code",
   "execution_count": 1,
   "metadata": {},
   "outputs": [
    {
     "name": "stdout",
     "output_type": "stream",
     "text": [
      "x is great than 100\n"
     ]
    }
   ],
   "source": [
    "x = 150\n",
    "if x > 100:\n",
    "    print(\"x is great than 100\")"
   ]
  },
  {
   "cell_type": "code",
   "execution_count": 2,
   "metadata": {},
   "outputs": [
    {
     "name": "stdout",
     "output_type": "stream",
     "text": [
      "nums is less than 200\n"
     ]
    }
   ],
   "source": [
    "nums = 150\n",
    "if nums < 200:\n",
    "    print(\"nums is less than 200\")"
   ]
  },
  {
   "cell_type": "code",
   "execution_count": 4,
   "metadata": {},
   "outputs": [
    {
     "name": "stdout",
     "output_type": "stream",
     "text": [
      "My Name is Netra\n"
     ]
    }
   ],
   "source": [
    "name = \"Netra\"\n",
    "if name == \"Netra\":\n",
    "    print(\"My Name is\", name)"
   ]
  },
  {
   "cell_type": "code",
   "execution_count": 5,
   "metadata": {},
   "outputs": [
    {
     "name": "stdout",
     "output_type": "stream",
     "text": [
      "I work inKathmandu University School of Education\n"
     ]
    }
   ],
   "source": [
    "uni = 'Kathmandu University School of Education'\n",
    "if uni == 'Kathmandu University School of Education':\n",
    "    print('I work in' + uni)"
   ]
  },
  {
   "cell_type": "code",
   "execution_count": 12,
   "metadata": {},
   "outputs": [
    {
     "name": "stdout",
     "output_type": "stream",
     "text": [
      "Invalid Score. Please check the input\n"
     ]
    }
   ],
   "source": [
    "score_theory = 80\n",
    "score_practical = 45\n",
    "if(score_theory+score_practical > 100): print(\"Invalid Score. Please check the input\")"
   ]
  },
  {
   "cell_type": "code",
   "execution_count": 14,
   "metadata": {},
   "outputs": [
    {
     "name": "stdout",
     "output_type": "stream",
     "text": [
      "Go ahead! The score is less than 100 :)\n"
     ]
    }
   ],
   "source": [
    "score = 55\n",
    "if(score<100): print(\"Go ahead! The score is less than 100 :)\")"
   ]
  },
  {
   "cell_type": "code",
   "execution_count": 15,
   "metadata": {},
   "outputs": [],
   "source": [
    "#If Else Statements"
   ]
  },
  {
   "cell_type": "code",
   "execution_count": 18,
   "metadata": {},
   "outputs": [
    {
     "name": "stdout",
     "output_type": "stream",
     "text": [
      "You are not an adult\n"
     ]
    }
   ],
   "source": [
    "age = int(input(\"Enter Your age\"))\n",
    "if age >= 30: \n",
    "    print(\"You are an adult now.\")\n",
    "else: \n",
    "    print(\"You are not an adult.\")"
   ]
  },
  {
   "cell_type": "code",
   "execution_count": 19,
   "metadata": {},
   "outputs": [
    {
     "name": "stdout",
     "output_type": "stream",
     "text": [
      "You did not get A in the final examination.\n"
     ]
    }
   ],
   "source": [
    "marks = float(input(\"Enter your marsk: \"))\n",
    "if marks >= 80:\n",
    "    print(\"You got A in the final examination.\")\n",
    "else:\n",
    "    print(\"You did not get A in the final examination.\")"
   ]
  },
  {
   "cell_type": "code",
   "execution_count": 1,
   "metadata": {},
   "outputs": [
    {
     "name": "stdout",
     "output_type": "stream",
     "text": [
      "You failed the exam. Better luck next time\n"
     ]
    }
   ],
   "source": [
    "#if-elif (else if)-else statement [to test multiple conditions]\n",
    "score = float(input(\"Enter your obtained marks\"))\n",
    "if score >= 92.5:\n",
    "    print(\"Your grade is A\")\n",
    "elif 82.5 <= score < 92.5:\n",
    "    print(\"Your grade is A-\")\n",
    "elif 75 <= score < 82.5:\n",
    "    print(\"Your grade is B+\")\n",
    "else: \n",
    "    print(\"You failed the exam. Better luck next time\")\n"
   ]
  },
  {
   "cell_type": "code",
   "execution_count": 25,
   "metadata": {},
   "outputs": [
    {
     "name": "stdout",
     "output_type": "stream",
     "text": [
      "Your grade is: B\n"
     ]
    }
   ],
   "source": [
    "score = 85\n",
    "if score >= 90:\n",
    "    grade = \"A\"\n",
    "elif score >= 80:\n",
    "    grade = \"B\"\n",
    "elif score >= 70:\n",
    "    grade = \"C\"\n",
    "else:\n",
    "    grade = \"F\"\n",
    "\n",
    "print(f\"Your grade is: {grade}\")"
   ]
  },
  {
   "cell_type": "code",
   "execution_count": 27,
   "metadata": {},
   "outputs": [
    {
     "name": "stdout",
     "output_type": "stream",
     "text": [
      "Your obtained grade is: A-\n"
     ]
    }
   ],
   "source": [
    "score = float(input(\"Enter your marks\"))\n",
    "if score >= 92.5:\n",
    "    grade = \"A\"\n",
    "elif 82.5 <= score < 92.5:\n",
    "    grade = \"A-\"\n",
    "elif 75 <= score < 82.5:\n",
    "    grade = \"B+\"\n",
    "else:\n",
    "    grade = \"F\"\n",
    "print(f\"Your obtained grade is: {grade}\")"
   ]
  },
  {
   "cell_type": "code",
   "execution_count": 29,
   "metadata": {},
   "outputs": [
    {
     "name": "stdout",
     "output_type": "stream",
     "text": [
      "Both conditions met. You passed the examination.\n"
     ]
    }
   ],
   "source": [
    "#Nested 'if' statements\n",
    "theory = 40\n",
    "practical = 25\n",
    "if theory > 35:\n",
    "    if practical > 20: \n",
    "        print(\"Both conditions met. You passed the examination.\")"
   ]
  },
  {
   "cell_type": "code",
   "execution_count": 30,
   "metadata": {},
   "outputs": [
    {
     "name": "stdout",
     "output_type": "stream",
     "text": [
      "It's a hot day\n"
     ]
    }
   ],
   "source": [
    "#using Logical Operators with 'if'\n",
    "temperature = 44\n",
    "if temperature >= 30 and temperature <= 40: \n",
    "    print(\"It's warm day.\")\n",
    "elif temperature > 40:\n",
    "    print(\"It's a hot day\")\n",
    "else:\n",
    "    print(\"It's a pleasant day.\")"
   ]
  },
  {
   "cell_type": "code",
   "execution_count": 32,
   "metadata": {},
   "outputs": [
    {
     "name": "stdout",
     "output_type": "stream",
     "text": [
      "It's a hot day\n"
     ]
    }
   ],
   "source": [
    "#The above codes can be written also as: \n",
    "temperature = 44\n",
    "if 30 < temperature <= 40: \n",
    "    print(\"It's warm day.\")\n",
    "elif temperature > 40:\n",
    "    print(\"It's a hot day\")\n",
    "else:\n",
    "    print(\"It's a pleasant day.\")"
   ]
  },
  {
   "cell_type": "code",
   "execution_count": 49,
   "metadata": {},
   "outputs": [
    {
     "name": "stdout",
     "output_type": "stream",
     "text": [
      "40 is in the list.\n"
     ]
    }
   ],
   "source": [
    "#Checking membership using 'if'\n",
    "import random\n",
    "my_list = [10, 20, 30, 40, 50]\n",
    "nums = random.choice(my_list)\n",
    "if nums in my_list:\n",
    "    print(f\"{nums} is in the list.\")"
   ]
  },
  {
   "cell_type": "code",
   "execution_count": 52,
   "metadata": {},
   "outputs": [
    {
     "name": "stdout",
     "output_type": "stream",
     "text": [
      "You cannot drive.\n"
     ]
    }
   ],
   "source": [
    "#Combining with logical operators\n",
    "age = int(input(\"Enter you age: \"))\n",
    "has_license = True #Logical Operators\n",
    "if age >20 and has_license:\n",
    "    print(\"You can drive.\")\n",
    "else:\n",
    "    print(\"You cannot drive.\")"
   ]
  },
  {
   "cell_type": "code",
   "execution_count": 53,
   "metadata": {},
   "outputs": [
    {
     "name": "stdout",
     "output_type": "stream",
     "text": [
      "Odd\n"
     ]
    }
   ],
   "source": [
    "#Short if statement\n",
    "x = 7\n",
    "message = \"Even\" if x%2 == 0 else \"Odd\"\n",
    "print(message)"
   ]
  },
  {
   "cell_type": "code",
   "execution_count": 54,
   "metadata": {},
   "outputs": [
    {
     "name": "stdout",
     "output_type": "stream",
     "text": [
      "x is an odd number.\n"
     ]
    }
   ],
   "source": [
    "x = int(input(\"Enter your number: \"))\n",
    "if x%2 == 0:\n",
    "    print(\"x is an Even Number.\")\n",
    "else:\n",
    "    print(\"x is an odd number.\")"
   ]
  },
  {
   "cell_type": "code",
   "execution_count": 55,
   "metadata": {},
   "outputs": [
    {
     "name": "stdout",
     "output_type": "stream",
     "text": [
      "Your text contains 'U\n"
     ]
    }
   ],
   "source": [
    "#Using 'if' with strings\n",
    "text = \"Kathmandu University School of Education\"\n",
    "if 'U' in text: \n",
    "    print(\"Your text contains 'U\")"
   ]
  },
  {
   "cell_type": "code",
   "execution_count": 57,
   "metadata": {},
   "outputs": [
    {
     "name": "stdout",
     "output_type": "stream",
     "text": [
      "The number is negative.\n"
     ]
    }
   ],
   "source": [
    "#checking whether the number is positive or negative\n",
    "number = float(input(\"Enter your real number: \"))\n",
    "if number > 0: \n",
    "    print(\"The number if positive.\")\n",
    "elif number <0:\n",
    "    print(\"The number is negative.\")\n",
    "else:\n",
    "    print(\"The number is zero\")"
   ]
  },
  {
   "cell_type": "code",
   "execution_count": 63,
   "metadata": {},
   "outputs": [
    {
     "name": "stdout",
     "output_type": "stream",
     "text": [
      "The largest number is 30.0\n"
     ]
    }
   ],
   "source": [
    "#checking largest number among three number\n",
    "num_a = float(input(\"Enter the first number: \"))\n",
    "num_b = float(input(\"Enter the second number: \"))\n",
    "num_c = float(input(\"Enter the third number: \"))\n",
    "if num_a >= num_b and num_a >= num_c:\n",
    "    print(\"The largest number is\" + num_a)\n",
    "elif num_b >= num_a and num_b >= num_c:\n",
    "    print(\"The largest number is:\", num_b)\n",
    "else:\n",
    "    print(f\"The largest number is {num_c}\")"
   ]
  },
  {
   "cell_type": "code",
   "execution_count": 68,
   "metadata": {},
   "outputs": [
    {
     "name": "stdout",
     "output_type": "stream",
     "text": [
      "Good. 2024 AD is a leap year.\n"
     ]
    }
   ],
   "source": [
    "#Determining the Leap Year\n",
    "year = int(input(\"Enter a year: \"))\n",
    "if (year%4==0 and year%100 != 0) or (year % 400 ==0):\n",
    "    print(f\"Good. {year} AD is a leap year.\")\n",
    "else:\n",
    "    print(f\"{year} AD not a leap year.\")"
   ]
  },
  {
   "cell_type": "code",
   "execution_count": 69,
   "metadata": {},
   "outputs": [
    {
     "name": "stdout",
     "output_type": "stream",
     "text": [
      "Good is a Palindrome.\n"
     ]
    }
   ],
   "source": [
    "#Checking if a string is a palindrome\n",
    "string = input(\"Enter a string: \")\n",
    "if string == string[::-1]:\n",
    "    print(\"Good is a Palindrome.\")\n",
    "else:\n",
    "    print(\"It's not a Palindrome.\")"
   ]
  },
  {
   "cell_type": "code",
   "execution_count": 73,
   "metadata": {},
   "outputs": [
    {
     "name": "stdout",
     "output_type": "stream",
     "text": [
      "Great, your 121 is a palindrome.\n"
     ]
    }
   ],
   "source": [
    "#Checking the number is palindrome\n",
    "number_p = int(input(\"Enter your Number: \"))\n",
    "number_string = str(number_p)\n",
    "if number_string == number_string[::-1]:\n",
    "    print(f\"Great, your {number_string} is a palindrome.\")\n",
    "else:\n",
    "    print(f\"Huh! Your {number_string} is not palindrome.\")"
   ]
  },
  {
   "cell_type": "code",
   "execution_count": 76,
   "metadata": {},
   "outputs": [
    {
     "name": "stdout",
     "output_type": "stream",
     "text": [
      "22.0 is greater than 20\n"
     ]
    }
   ],
   "source": [
    "#Categorizing the user Input \n",
    "number = float(input(\"Enter a number: \"))\n",
    "if 0 <= number < 10:\n",
    "    print(\"Your\"+number+ \"is between 0 and 1.\")\n",
    "elif 10 <= number <20:\n",
    "    print(f\"Your {number} is between 10 and 20\")\n",
    "else: \n",
    "    print( number, \"is greater than 20\")"
   ]
  },
  {
   "cell_type": "code",
   "execution_count": 80,
   "metadata": {},
   "outputs": [
    {
     "name": "stdout",
     "output_type": "stream",
     "text": [
      "Roots are real and distinct: 4.00, -3.00\n"
     ]
    }
   ],
   "source": [
    "#Finding the root of quadrative equation\n",
    "import math\n",
    "a = float(input(\"Enter the first number: \"))\n",
    "b = float(input(\"Enter the second number: \"))\n",
    "c = float(input(\"Enter the third number: \"))\n",
    "discrimintant = b**2 - 4*a*c\n",
    "if discrimintant > 0:\n",
    "    root1 = (-b+math.sqrt(discrimintant))/(2*a)\n",
    "    root2 = (+b + math.sqrt(discrimintant))/(2*a)\n",
    "    print(f\"Roots are real and distinct: {root1:.2f}, {root2:.2f}\") #(.2f) prints the number with 2 decimal digits\n",
    "elif discrimintant ==0:\n",
    "    root = -b/(2*a)\n",
    "    print(f\"The root is real and equals: {root:.2f}\")\n",
    "else:\n",
    "    real_part = -b/(2*a)\n",
    "    imaginary_part = math.sqrt(-discrimintant)/(2*a)\n",
    "    print(f\"The roots and complex: {real_part:.2f}+{imaginary_part:.2f}i, {real_part:.2f}-{imaginary_part:.2f}\")"
   ]
  },
  {
   "cell_type": "code",
   "execution_count": 2,
   "metadata": {},
   "outputs": [
    {
     "name": "stdout",
     "output_type": "stream",
     "text": [
      "fee is 200\n"
     ]
    }
   ],
   "source": [
    "A = int(input(\"A: \"))\n",
    "G = input(\"M/F: \")\n",
    "\n",
    "if ((A == 1 or A == 2) and G == \"M\"): \n",
    "    print(\"fee is 100\")\n",
    "elif (A == 3 or A == 4 or G == \"F\"):\n",
    "    print(\"fee is 200\")\n",
    "elif (A == 5 and G == \"M\"):\n",
    "    print(\"fee is 300\")\n",
    "else: \n",
    "    print(\"No FEE\")"
   ]
  },
  {
   "cell_type": "markdown",
   "metadata": {},
   "source": [
    "### `Ternary Opearator/ Single Line If`"
   ]
  },
  {
   "cell_type": "code",
   "execution_count": 4,
   "metadata": {},
   "outputs": [
    {
     "name": "stdout",
     "output_type": "stream",
     "text": [
      "NO\n"
     ]
    }
   ],
   "source": [
    "food = input(\"food: \")\n",
    "\n",
    "eat = \"Yes\" if food == \"cake\" else \"NO\"\n",
    "\n",
    "print(eat)"
   ]
  },
  {
   "attachments": {
    "image.png": {
     "image/png": "[encoded data removed]"
    }
   },
   "cell_type": "markdown",
   "metadata": {},
   "source": [
    "![image.png](attachment:image.png)"
   ]
  },
  {
   "cell_type": "code",
   "execution_count": 7,
   "metadata": {},
   "outputs": [
    {
     "name": "stdout",
     "output_type": "stream",
     "text": [
      "sweet\n"
     ]
    }
   ],
   "source": [
    "food = input(\"food : \")\n",
    "\n",
    "print(\"sweet\") if food == 'cake' or food == 'jalebi' else print(\"No Sweet\")"
   ]
  },
  {
   "cell_type": "code",
   "execution_count": null,
   "metadata": {},
   "outputs": [],
   "source": []
  }
 ],
 "metadata": {
  "kernelspec": {
   "display_name": "Python 3",
   "language": "python",
   "name": "python3"
  },
  "language_info": {
   "codemirror_mode": {
    "name": "ipython",
    "version": 3
   },
   "file_extension": ".py",
   "mimetype": "text/x-python",
   "name": "python",
   "nbconvert_exporter": "python",
   "pygments_lexer": "ipython3",
   "version": "3.11.8"
  },
  "orig_nbformat": 4
 },
 "nbformat": 4,
 "nbformat_minor": 2
}
