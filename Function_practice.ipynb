{
 "cells": [
  {
   "cell_type": "markdown",
   "metadata": {},
   "source": [
    "Python Functions "
   ]
  },
  {
   "cell_type": "code",
   "execution_count": 10,
   "metadata": {},
   "outputs": [
    {
     "name": "stdout",
     "output_type": "stream",
     "text": [
      "Hello, World!\n"
     ]
    }
   ],
   "source": [
    "def greet():\n",
    "    print(\"Hello, World!\")\n",
    "#Calling the function\n",
    "greet()"
   ]
  },
  {
   "cell_type": "code",
   "execution_count": 11,
   "metadata": {},
   "outputs": [
    {
     "name": "stdout",
     "output_type": "stream",
     "text": [
      "Hello, World!. This is Netra Kumar Manandhar. I work here at the department of STEAM Education, KU.\n"
     ]
    }
   ],
   "source": [
    "def greet():\n",
    "    print(\"Hello, World!. This is Netra Kumar Manandhar. I work here at the department of STEAM Education, KU.\")\n",
    "#Calling the function\n",
    "greet()"
   ]
  },
  {
   "cell_type": "markdown",
   "metadata": {},
   "source": [
    "## Function with Parameters "
   ]
  },
  {
   "cell_type": "code",
   "execution_count": 12,
   "metadata": {},
   "outputs": [
    {
     "name": "stdout",
     "output_type": "stream",
     "text": [
      "Hello World! This is Netra Kumar Manandhar from the department of STEAM Education, KU.\n"
     ]
    }
   ],
   "source": [
    "def greet(name):\n",
    "    print(f\"Hello World! This is {name} from the department of STEAM Education, KU.\")\n",
    "#Calling the function\n",
    "greet(\"Netra Kumar Manandhar\")"
   ]
  },
  {
   "cell_type": "code",
   "execution_count": 13,
   "metadata": {},
   "outputs": [
    {
     "name": "stdout",
     "output_type": "stream",
     "text": [
      "Hello World! This is Netra Kumar Manandhar from the department of STEAM Education, KU. I live in Kathmandu, Nepal.\n"
     ]
    }
   ],
   "source": [
    "def greet(name, address):\n",
    "    print(f\"Hello World! This is {name} from the department of STEAM Education, KU. I live in {address}.\")\n",
    "#Calling the function\n",
    "greet(\"Netra Kumar Manandhar\", \"Kathmandu, Nepal\")"
   ]
  },
  {
   "cell_type": "code",
   "execution_count": 14,
   "metadata": {},
   "outputs": [
    {
     "name": "stdout",
     "output_type": "stream",
     "text": [
      "Hello World! This is Netra Kumar Manandhar from the department of STEAM Education, KU. I live in Kathmandu, Nepal. I am 18 years old.\n"
     ]
    }
   ],
   "source": [
    "def greet(name, address, age):\n",
    "    print(f\"Hello World! This is {name} from the department of STEAM Education, KU. I live in {address}. I am {age} years old.\")\n",
    "#Calling the function\n",
    "greet(\"Netra Kumar Manandhar\", \"Kathmandu, Nepal\", 18)"
   ]
  },
  {
   "cell_type": "code",
   "execution_count": 15,
   "metadata": {},
   "outputs": [
    {
     "name": "stdout",
     "output_type": "stream",
     "text": [
      "Hello World! This is Department of STEAM Education KU. I have the following programs: ['Bachelor in IT', 'Masters in STEAM', 'PhD'].\n"
     ]
    }
   ],
   "source": [
    "def department(name, address, programs):\n",
    "    print(f\"Hello World! This is {name} KU. I have the following programs: {programs}.\")\n",
    "#Calling the function\n",
    "department(\"Department of STEAM Education\", \"Kathmandu, Nepal\", [\"Bachelor in IT\", \"Masters in STEAM\", \"PhD\"])"
   ]
  },
  {
   "cell_type": "markdown",
   "metadata": {},
   "source": [
    "## Function with return value"
   ]
  },
  {
   "cell_type": "code",
   "execution_count": 16,
   "metadata": {},
   "outputs": [
    {
     "name": "stdout",
     "output_type": "stream",
     "text": [
      "300\n"
     ]
    }
   ],
   "source": [
    "def add(a, b):\n",
    "    return a + b\n",
    "\n",
    "result = add(100, 200)\n",
    "print(result)"
   ]
  },
  {
   "cell_type": "code",
   "execution_count": 17,
   "metadata": {},
   "outputs": [
    {
     "name": "stdout",
     "output_type": "stream",
     "text": [
      "0\n"
     ]
    }
   ],
   "source": [
    "def div(a, b):\n",
    "    return a//b #This will return the integer value of the division \n",
    "\n",
    "result = div(100, 200) #100 divided by 200 is 0.5 but since we are using //, it will return 0\n",
    "print(result)"
   ]
  },
  {
   "cell_type": "code",
   "execution_count": 18,
   "metadata": {},
   "outputs": [
    {
     "name": "stdout",
     "output_type": "stream",
     "text": [
      "0.5\n"
     ]
    }
   ],
   "source": [
    "def div(a, b):\n",
    "    return a/b #This will return the float value of the division\n",
    "\n",
    "result = div(100, 200) #100 divided by 200 is 0.5\n",
    "print(result)"
   ]
  },
  {
   "cell_type": "code",
   "execution_count": 19,
   "metadata": {},
   "outputs": [
    {
     "name": "stdout",
     "output_type": "stream",
     "text": [
      "20000\n"
     ]
    }
   ],
   "source": [
    "def mul(a, b):\n",
    "    return a*b\n",
    "print(mul(100, 200)) #100 multiplied by 200 is 20000"
   ]
  },
  {
   "cell_type": "code",
   "execution_count": 20,
   "metadata": {},
   "outputs": [
    {
     "name": "stdout",
     "output_type": "stream",
     "text": [
      "-100\n"
     ]
    }
   ],
   "source": [
    "def sub(a, b):\n",
    "    return a-b  \n",
    "\n",
    "print(sub(100, 200)) #100 subtracted by 200 is -100"
   ]
  },
  {
   "cell_type": "code",
   "execution_count": 21,
   "metadata": {},
   "outputs": [
    {
     "name": "stdout",
     "output_type": "stream",
     "text": [
      "250\n"
     ]
    }
   ],
   "source": [
    "def area(l, b):\n",
    "    return l*b\n",
    "l = 10\n",
    "b = 25\n",
    "result = area(l, b)\n",
    "print(result)"
   ]
  },
  {
   "cell_type": "code",
   "execution_count": 22,
   "metadata": {},
   "outputs": [
    {
     "name": "stdout",
     "output_type": "stream",
     "text": [
      "3630\n"
     ]
    }
   ],
   "source": [
    "def area(l, b):\n",
    "    return l*b\n",
    "l = int(input(\"Enter the length of the rectangle: \")) #Taking the input from the user\n",
    "b = int(input(\"Enter the breadth of the rectangle: \"))#Taking the input from the user\n",
    "result = area(l, b)\n",
    "print(result)"
   ]
  },
  {
   "cell_type": "code",
   "execution_count": 23,
   "metadata": {},
   "outputs": [
    {
     "name": "stdout",
     "output_type": "stream",
     "text": [
      "13677.84\n"
     ]
    }
   ],
   "source": [
    "def cirarea(r):\n",
    "    return 3.14*r*r\n",
    "r = int(input(\"Enter the radius of the circle: \")) #Taking the input from the user\n",
    "result = cirarea(r)\n",
    "print(result)"
   ]
  },
  {
   "cell_type": "code",
   "execution_count": 24,
   "metadata": {},
   "outputs": [
    {
     "name": "stdout",
     "output_type": "stream",
     "text": [
      "120\n"
     ]
    }
   ],
   "source": [
    "#Intetermediate Function \n",
    "def factorial(n):\n",
    "    if n ==0: \n",
    "        return 1\n",
    "    else: \n",
    "        return n*factorial(n-1)\n",
    "print(factorial(5))"
   ]
  },
  {
   "cell_type": "code",
   "execution_count": 25,
   "metadata": {},
   "outputs": [
    {
     "name": "stdout",
     "output_type": "stream",
     "text": [
      "544344939077443064003729240247842752644293064388798874532860126869671081148416000000000000000\n"
     ]
    }
   ],
   "source": [
    "#Intetermediate Function \n",
    "def factorial(n):\n",
    "    if n ==0: \n",
    "        return 1\n",
    "    else: \n",
    "        return n*factorial(n-1)\n",
    "n = int(input(\"Enter the number: \")) #Taking the input from the user\n",
    "print(factorial(n))"
   ]
  },
  {
   "cell_type": "markdown",
   "metadata": {},
   "source": [
    "## Function with default parameter"
   ]
  },
  {
   "cell_type": "code",
   "execution_count": 26,
   "metadata": {},
   "outputs": [
    {
     "name": "stdout",
     "output_type": "stream",
     "text": [
      "Hello World! This is Netra Kumar Manandhar from the department of STEAM Education, KU.\n"
     ]
    }
   ],
   "source": [
    "def greet(name = \"Netra Kumar Manandhar\"):\n",
    "    print(f\"Hello World! This is {name} from the department of STEAM Education, KU.\")\n",
    "    \n",
    "#Calling the function\n",
    "greet()"
   ]
  },
  {
   "cell_type": "code",
   "execution_count": 27,
   "metadata": {},
   "outputs": [
    {
     "name": "stdout",
     "output_type": "stream",
     "text": [
      "Hello World! This is Netra Kumar Manandhar from the department of STEAM Education, KU.\n",
      "Hello World! This is Sita Ram from the department of STEAM Education, KU.\n"
     ]
    }
   ],
   "source": [
    "def greet(name = \"Netra Kumar Manandhar\"):\n",
    "    print(f\"Hello World! This is {name} from the department of STEAM Education, KU.\")\n",
    "    \n",
    "#Calling the function\n",
    "greet()\n",
    "greet(\"Sita Ram\") #This will override the default value"
   ]
  },
  {
   "cell_type": "code",
   "execution_count": 28,
   "metadata": {},
   "outputs": [
    {
     "name": "stdout",
     "output_type": "stream",
     "text": [
      "Hello World! This is STEAM KU. I have the following programs: ['Bachelor in IT', 'Masters in STEAM', 'PhD'].\n"
     ]
    }
   ],
   "source": [
    "def department(name = \"STEAM\", address = \"Kathmandu\", programs=[\"Bachelor in IT\", \"Masters in STEAM\", \"PhD\"]):\n",
    "    print(f\"Hello World! This is {name} KU. I have the following programs: {programs}.\")\n",
    "#Calling the function\n",
    "department()"
   ]
  },
  {
   "cell_type": "code",
   "execution_count": 29,
   "metadata": {},
   "outputs": [
    {
     "name": "stdout",
     "output_type": "stream",
     "text": [
      "3630\n"
     ]
    }
   ],
   "source": [
    "def area(l = 10, b = 25):\n",
    "    return l*b\n",
    "result = area(l, b) \n",
    "print(result)"
   ]
  },
  {
   "cell_type": "markdown",
   "metadata": {},
   "source": [
    "### Function with Keyword Arguments"
   ]
  },
  {
   "cell_type": "code",
   "execution_count": 30,
   "metadata": {},
   "outputs": [
    {
     "name": "stdout",
     "output_type": "stream",
     "text": [
      "I have a dog named Netra.\n"
     ]
    }
   ],
   "source": [
    "def describe_pet(pet_name, animal_type = 'dog'): #Default value is dog\n",
    "    print(f\"I have a {animal_type} named {pet_name}.\")\n",
    "\n",
    "describe_pet(pet_name='Netra') #This will print I have a dog named Willie."
   ]
  },
  {
   "cell_type": "code",
   "execution_count": 31,
   "metadata": {},
   "outputs": [
    {
     "name": "stdout",
     "output_type": "stream",
     "text": [
      "I have a dog named Netra.\n",
      "I have a Mouse named Willie.\n"
     ]
    }
   ],
   "source": [
    "def describe_pet(pet_name, animal_type = 'dog'): #Default value is dog\n",
    "    print(f\"I have a {animal_type} named {pet_name}.\")\n",
    "\n",
    "describe_pet(pet_name='Netra') #This will print I have a dog named Willie.\n",
    "describe_pet(\"Willie\", \"Mouse\") #This will print I have a Mouse named Willie."
   ]
  },
  {
   "cell_type": "markdown",
   "metadata": {},
   "source": [
    "## Function with variable-length argument"
   ]
  },
  {
   "cell_type": "code",
   "execution_count": 32,
   "metadata": {},
   "outputs": [
    {
     "name": "stdout",
     "output_type": "stream",
     "text": [
      "1\n",
      "2\n",
      "3\n",
      "4\n",
      "5\n"
     ]
    }
   ],
   "source": [
    "def print_numbers(*numbers):\n",
    "    for number in numbers:\n",
    "        print(number)\n",
    "\n",
    "print_numbers(1, 2, 3, 4, 5)"
   ]
  },
  {
   "cell_type": "code",
   "execution_count": 33,
   "metadata": {},
   "outputs": [
    {
     "name": "stdout",
     "output_type": "stream",
     "text": [
      "5972\n"
     ]
    }
   ],
   "source": [
    "#Summing Multiple numbers \n",
    "def sum_numbers(*args):\n",
    "    return sum(args)\n",
    "print(sum_numbers(10, 20, 233, 234,5475))"
   ]
  },
  {
   "cell_type": "code",
   "execution_count": 34,
   "metadata": {},
   "outputs": [
    {
     "name": "stdout",
     "output_type": "stream",
     "text": [
      "200033\n"
     ]
    }
   ],
   "source": [
    "#Finding the maximum value\n",
    "def find_max(*args):\n",
    "    if not args:\n",
    "        return None\n",
    "    return max(args)\n",
    "\n",
    "print(find_max(10, 20, 200033, 234,5475))"
   ]
  },
  {
   "cell_type": "code",
   "execution_count": 35,
   "metadata": {},
   "outputs": [
    {
     "name": "stdout",
     "output_type": "stream",
     "text": [
      "hello ,This is Netra Kumar Manandhar.\n"
     ]
    }
   ],
   "source": [
    "#Concatenating multiple strings\n",
    "def concatenate_strings(*args):\n",
    "    return \" \".join(args)\n",
    "\n",
    "print(concatenate_strings(\"hello\", \",\" \"This\", \"is\", \"Netra Kumar Manandhar.\"))"
   ]
  },
  {
   "cell_type": "code",
   "execution_count": 36,
   "metadata": {},
   "outputs": [
    {
     "name": "stdout",
     "output_type": "stream",
     "text": [
      "51254455590000\n"
     ]
    }
   ],
   "source": [
    "##Multiply multiple numbers \n",
    "def multiply_all(*args):\n",
    "    result = 1\n",
    "    for num in args:\n",
    "        result *=num\n",
    "    return result\n",
    "print(multiply_all(10, 20, 200033, 234, 5475))"
   ]
  },
  {
   "cell_type": "code",
   "execution_count": 37,
   "metadata": {},
   "outputs": [
    {
     "name": "stdout",
     "output_type": "stream",
     "text": [
      "1\n",
      "Hello\n",
      "[3, 4, 5]\n",
      "{'name': 'Netra'}\n"
     ]
    }
   ],
   "source": [
    "#Printing all arguments \n",
    "def print_all(*args):\n",
    "    for arg in args:\n",
    "        print(arg)\n",
    "        \n",
    "print_all(1, \"Hello\", [3, 4, 5], {\"name\": \"Netra\"})"
   ]
  },
  {
   "cell_type": "markdown",
   "metadata": {
    "vscode": {
     "languageId": "markdown"
    }
   },
   "source": [
    "## Function with keyword variable-Length Arguments (**kwargs)"
   ]
  },
  {
   "cell_type": "code",
   "execution_count": 38,
   "metadata": {},
   "outputs": [
    {
     "name": "stdout",
     "output_type": "stream",
     "text": [
      "name: Netra\n",
      "age: 18\n",
      "address: Kathmandu, Nepal\n",
      "occupation: Student\n"
     ]
    }
   ],
   "source": [
    "def print_info(**info): #** is used to pass the keyword arguments\n",
    "    for key, value in info.items():\n",
    "        print(f\"{key}: {value}\")\n",
    "        \n",
    "print_info(name = \"Netra\", age = 18, address = \"Kathmandu, Nepal\", occupation = \"Student\")"
   ]
  },
  {
   "cell_type": "code",
   "execution_count": 39,
   "metadata": {},
   "outputs": [
    {
     "name": "stdout",
     "output_type": "stream",
     "text": [
      "{'name': 'Netra', 'age': 18, 'address': 'Kathmandu, Nepal', 'occupation': 'Student'}\n"
     ]
    }
   ],
   "source": [
    "def print_info(**info): #** is used to pass the keyword arguments\n",
    "    print(info) #This will print the dictionary of the keyword arguments\n",
    "print_info(name = \"Netra\", age = 18, address = \"Kathmandu, Nepal\", occupation = \"Student\")"
   ]
  },
  {
   "cell_type": "code",
   "execution_count": 40,
   "metadata": {},
   "outputs": [
    {
     "name": "stdout",
     "output_type": "stream",
     "text": [
      "{'name': 'Netra', 'age': 18, 'address': 'Kathmandu, Nepal', 'occupation': 'Student'}\n"
     ]
    }
   ],
   "source": [
    "#Creating a dictionary of the keyword arguments\n",
    "def create_dict(**kwargs):\n",
    "    return kwargs\n",
    "\n",
    "person = create_dict(name = \"Netra\", age = 18, address = \"Kathmandu, Nepal\", occupation = \"Student\")    \n",
    "print(person)"
   ]
  },
  {
   "cell_type": "code",
   "execution_count": 41,
   "metadata": {},
   "outputs": [
    {
     "name": "stdout",
     "output_type": "stream",
     "text": [
      "{'name': 'Bob', 'age': 25, 'profession': 'Developer'}\n",
      "{'server': 'localhost', 'port': 8080, 'use_ssl': True}\n"
     ]
    }
   ],
   "source": [
    "def create_dict(**kwargs):\n",
    "    return kwargs\n",
    "\n",
    "person = create_dict(name=\"Bob\", age=25, profession=\"Developer\")\n",
    "print(person)\n",
    "# Output: {'name': 'Bob', 'age': 25, 'profession': 'Developer'}\n",
    "\n",
    "config = create_dict(server=\"localhost\", port=8080, use_ssl=True)\n",
    "print(config)\n",
    "# Output: {'server': 'localhost', 'port': 8080, 'use_ssl': True}\n"
   ]
  },
  {
   "cell_type": "code",
   "execution_count": 42,
   "metadata": {},
   "outputs": [
    {
     "name": "stdout",
     "output_type": "stream",
     "text": [
      "{'color': 'red', 'size': 'S', 'price': 120000}\n",
      "{'theme': 'dark', 'font': 'Helvetica', 'layout': 'grid'}\n"
     ]
    }
   ],
   "source": [
    "##Updating a default dictionary with keyword arguments\n",
    "def update_dict(defaults, **kwargs):\n",
    "    defaults.update(kwargs)\n",
    "    return defaults\n",
    "\n",
    "defaults = {'color':'blue', 'size': 'M'}\n",
    "updated = update_dict(defaults, color='red', size='S', price=120000)\n",
    "print(updated)\n",
    "\n",
    "settings = {'theme': 'dark', 'font': 'Arial'}\n",
    "updated_settings = update_dict(settings, font='Helvetica', layout='grid')\n",
    "print(updated_settings)"
   ]
  },
  {
   "cell_type": "code",
   "execution_count": 43,
   "metadata": {},
   "outputs": [
    {
     "name": "stdout",
     "output_type": "stream",
     "text": [
      "{'name': 'Netra', 'age': 18}\n"
     ]
    }
   ],
   "source": [
    "##Filtering keyword arguments\n",
    "def filter_kwargs(filter_keys, **kwargs):\n",
    "    return {key: value for key, value in kwargs.items() if key in filter_keys}\n",
    "\n",
    "filtered = filter_kwargs(['name', 'age'], name = \"Netra\", age = 18, address = \"Kathmandu, Nepal\", occupation = \"Student\")\n",
    "print(filtered)\n"
   ]
  },
  {
   "cell_type": "code",
   "execution_count": 44,
   "metadata": {},
   "outputs": [
    {
     "name": "stdout",
     "output_type": "stream",
     "text": [
      "Name: David\n",
      "Age: 35\n",
      "city: Berlin\n",
      "profession: Engineer\n",
      "Name: Eva\n",
      "Age: 22\n",
      "hobby: painting\n",
      "favorite_color: green\n"
     ]
    }
   ],
   "source": [
    "def display_info(name, age, **kwargs):\n",
    "    print(f\"Name: {name}\")\n",
    "    print(f\"Age: {age}\")\n",
    "    for key, value in kwargs.items():\n",
    "        print(f\"{key}: {value}\")\n",
    "\n",
    "display_info(\"David\", 35, city=\"Berlin\", profession=\"Engineer\")\n",
    "# Output:\n",
    "# Name: David\n",
    "# Age: 35\n",
    "# city: Berlin\n",
    "# profession: Engineer\n",
    "\n",
    "display_info(\"Eva\", 22, hobby=\"painting\", favorite_color=\"green\")\n",
    "# Output:\n",
    "# Name: Eva\n",
    "# Age: 22\n",
    "# hobby: painting\n",
    "# favorite_color: green\n"
   ]
  },
  {
   "cell_type": "markdown",
   "metadata": {},
   "source": [
    "## Recursive Function "
   ]
  },
  {
   "cell_type": "code",
   "execution_count": 45,
   "metadata": {},
   "outputs": [
    {
     "name": "stdout",
     "output_type": "stream",
     "text": [
      "120\n"
     ]
    }
   ],
   "source": [
    "def factorial(n):\n",
    "    if n ==0: \n",
    "        return 1\n",
    "    else:\n",
    "        return n*factorial(n-1)\n",
    "\n",
    "print(factorial(5))"
   ]
  },
  {
   "cell_type": "markdown",
   "metadata": {},
   "source": [
    "## Lambda Function "
   ]
  },
  {
   "cell_type": "code",
   "execution_count": 46,
   "metadata": {},
   "outputs": [
    {
     "name": "stdout",
     "output_type": "stream",
     "text": [
      "3554\n"
     ]
    }
   ],
   "source": [
    "add = lambda a, b: a+b\n",
    "print(add(122, 3432))"
   ]
  },
  {
   "cell_type": "markdown",
   "metadata": {},
   "source": [
    "## 10. Function with Docstring "
   ]
  },
  {
   "cell_type": "code",
   "execution_count": 47,
   "metadata": {},
   "outputs": [
    {
     "name": "stdout",
     "output_type": "stream",
     "text": [
      "200\n",
      "this function multiplies two numbers\n"
     ]
    }
   ],
   "source": [
    "def multiply(a, b):\n",
    "    \"\"\"this function multiplies two numbers\"\"\" #This is the docstring\n",
    "    return a*b\n",
    "\n",
    "print(multiply(10, 20))\n",
    "print(multiply.__doc__)"
   ]
  },
  {
   "cell_type": "markdown",
   "metadata": {},
   "source": [
    "## Function as an argument"
   ]
  },
  {
   "cell_type": "code",
   "execution_count": 48,
   "metadata": {},
   "outputs": [
    {
     "name": "stdout",
     "output_type": "stream",
     "text": [
      "30\n"
     ]
    }
   ],
   "source": [
    "def add(a, b):\n",
    "    return a + b\n",
    "\n",
    "def apply_operation(func, a, b):\n",
    "    return func(a, b)\n",
    "\n",
    "print(apply_operation(add, 10, 20))"
   ]
  },
  {
   "cell_type": "markdown",
   "metadata": {},
   "source": [
    "## Inner Function "
   ]
  },
  {
   "cell_type": "code",
   "execution_count": 49,
   "metadata": {},
   "outputs": [
    {
     "name": "stdout",
     "output_type": "stream",
     "text": [
      "Hello from the inner function\n"
     ]
    }
   ],
   "source": [
    "def outer_function(text):\n",
    "    def inner_function():\n",
    "        print(text)\n",
    "    inner_function()\n",
    "\n",
    "outer_function(\"Hello from the inner function\")"
   ]
  },
  {
   "cell_type": "markdown",
   "metadata": {},
   "source": [
    "## Function with List Comprehension"
   ]
  },
  {
   "cell_type": "code",
   "execution_count": 50,
   "metadata": {},
   "outputs": [
    {
     "name": "stdout",
     "output_type": "stream",
     "text": [
      "[400, 900, 121, 484]\n"
     ]
    }
   ],
   "source": [
    "def square_numbers(numbers):\n",
    "    return [n**2 for n in numbers]\n",
    "\n",
    "print(square_numbers([20, 30, 11, 22]))"
   ]
  },
  {
   "cell_type": "code",
   "execution_count": 51,
   "metadata": {},
   "outputs": [
    {
     "name": "stdout",
     "output_type": "stream",
     "text": [
      "[8000, 27000, 1331, 10648]\n"
     ]
    }
   ],
   "source": [
    "def cube_numbers(numbers):\n",
    "    return [n**3 for n in numbers]\n",
    "\n",
    "print(cube_numbers([20, 30, 11, 22]))"
   ]
  },
  {
   "cell_type": "markdown",
   "metadata": {},
   "source": [
    "## Function with Dictionary Comprehension "
   ]
  },
  {
   "cell_type": "code",
   "execution_count": 55,
   "metadata": {},
   "outputs": [
    {
     "name": "stdout",
     "output_type": "stream",
     "text": [
      "{20: 8000, 30: 27000, 11: 1331, 22: 10648}\n"
     ]
    }
   ],
   "source": [
    "def cube_numbers(numbers):\n",
    "    return {n: n**3 for n in numbers}\n",
    "\n",
    "print(cube_numbers([20, 30, 11, 22]))"
   ]
  },
  {
   "cell_type": "markdown",
   "metadata": {},
   "source": [
    "## 15. Generator Functions"
   ]
  },
  {
   "cell_type": "code",
   "execution_count": 58,
   "metadata": {},
   "outputs": [
    {
     "name": "stdout",
     "output_type": "stream",
     "text": [
      "0\n",
      "2\n",
      "4\n",
      "6\n",
      "8\n",
      "10\n",
      "12\n",
      "14\n",
      "16\n",
      "18\n"
     ]
    }
   ],
   "source": [
    "def generate_even_numbers(max_num):\n",
    "    for num in range(max_num):\n",
    "        if num % 2 ==0:\n",
    "            yield num\n",
    "for even in generate_even_numbers(20):\n",
    "    print(even)"
   ]
  },
  {
   "cell_type": "code",
   "execution_count": 60,
   "metadata": {},
   "outputs": [
    {
     "name": "stdout",
     "output_type": "stream",
     "text": [
      "0\n",
      "5\n",
      "10\n",
      "15\n",
      "20\n",
      "25\n",
      "30\n",
      "35\n",
      "40\n",
      "45\n",
      "50\n",
      "55\n",
      "60\n",
      "65\n",
      "70\n",
      "75\n",
      "80\n",
      "85\n",
      "90\n",
      "95\n"
     ]
    }
   ],
   "source": [
    "def generate_numbers_div_five(max_num):\n",
    "    for num in range(max_num):\n",
    "        if num % 5 ==0:\n",
    "            yield num\n",
    "for even in generate_numbers_div_five(100):\n",
    "    print(even)"
   ]
  },
  {
   "cell_type": "markdown",
   "metadata": {},
   "source": [
    "## 16. Decorator Functions"
   ]
  },
  {
   "cell_type": "code",
   "execution_count": 64,
   "metadata": {},
   "outputs": [
    {
     "name": "stdout",
     "output_type": "stream",
     "text": [
      "Something is happening before the function is called.\n",
      "Hello!\n",
      "Something is happening after the function is called.\n"
     ]
    }
   ],
   "source": [
    "def my_decorator(func):\n",
    "    def wrapper():\n",
    "        print(\"Something is happening before the function is called.\")\n",
    "        func()\n",
    "        print(\"Something is happening after the function is called.\")\n",
    "    return wrapper\n",
    "@my_decorator\n",
    "def say_hello():\n",
    "    print(\"Hello!\")\n",
    "\n",
    "say_hello()\n"
   ]
  },
  {
   "cell_type": "markdown",
   "metadata": {},
   "source": [
    "## Function with Annotations "
   ]
  },
  {
   "cell_type": "code",
   "execution_count": 65,
   "metadata": {},
   "outputs": [
    {
     "name": "stdout",
     "output_type": "stream",
     "text": [
      "Hello, Netra!\n"
     ]
    }
   ],
   "source": [
    "def greet(name: str) -> str:\n",
    "    return f\"Hello, {name}!\"\n",
    "\n",
    "print(greet(\"Netra\"))"
   ]
  },
  {
   "cell_type": "markdown",
   "metadata": {},
   "source": [
    "## function to handle the exception"
   ]
  },
  {
   "cell_type": "code",
   "execution_count": 66,
   "metadata": {},
   "outputs": [
    {
     "name": "stdout",
     "output_type": "stream",
     "text": [
      "5.0\n"
     ]
    }
   ],
   "source": [
    "def divide(a, b):\n",
    "    try:\n",
    "        result = a/b\n",
    "    except ZeroDivisionError:\n",
    "        return \"You cannot divide by zero!\"\n",
    "    else:\n",
    "        return result\n",
    "\n",
    "print(divide(10, 2))"
   ]
  },
  {
   "cell_type": "code",
   "execution_count": 68,
   "metadata": {},
   "outputs": [
    {
     "name": "stdout",
     "output_type": "stream",
     "text": [
      "You cannot divide by zero!\n"
     ]
    }
   ],
   "source": [
    "def divide(a, b):\n",
    "    try:\n",
    "        result = a/b\n",
    "    except ZeroDivisionError:\n",
    "        return \"You cannot divide by zero!\"\n",
    "    else:\n",
    "        return result\n",
    "\n",
    "print(divide(10, 0))"
   ]
  },
  {
   "cell_type": "markdown",
   "metadata": {},
   "source": [
    "## 19. Function using Map"
   ]
  },
  {
   "cell_type": "code",
   "execution_count": 69,
   "metadata": {},
   "outputs": [
    {
     "name": "stdout",
     "output_type": "stream",
     "text": [
      "<function square_numbers at 0x000002859CCFB740>\n"
     ]
    }
   ],
   "source": [
    "def square(x):\n",
    "    return x**2 \n",
    "\n",
    "numbers = [1, 2, 3, 4, 5]\n",
    "squared_numbers = list(map(square, numbers))\n",
    "print(square_numbers)"
   ]
  },
  {
   "cell_type": "markdown",
   "metadata": {},
   "source": [
    "## 20. Function with Global variable"
   ]
  },
  {
   "cell_type": "code",
   "execution_count": 74,
   "metadata": {},
   "outputs": [
    {
     "name": "stdout",
     "output_type": "stream",
     "text": [
      "120\n"
     ]
    }
   ],
   "source": [
    "count = 100\n",
    "def increment():\n",
    "    global count\n",
    "    count += 20\n",
    "increment()\n",
    "print(count)"
   ]
  },
  {
   "cell_type": "markdown",
   "metadata": {},
   "source": [
    "-------------------"
   ]
  },
  {
   "cell_type": "markdown",
   "metadata": {},
   "source": [
    "## Fibonacci Function "
   ]
  },
  {
   "cell_type": "code",
   "execution_count": 82,
   "metadata": {},
   "outputs": [
    {
     "name": "stdout",
     "output_type": "stream",
     "text": [
      "1304969544928657\n"
     ]
    }
   ],
   "source": [
    "def fibonacci(n):\n",
    "    if n<=0:\n",
    "        return \"Input should be a positive integer\"\n",
    "    elif n == 1:\n",
    "        return 0\n",
    "    elif n == 2:\n",
    "        return 1\n",
    "    else:\n",
    "        a, b = 0, 1\n",
    "        for _ in range(n-2):\n",
    "            a, b = b, a+b\n",
    "        return b\n",
    "\n",
    "print(fibonacci(75))"
   ]
  },
  {
   "cell_type": "code",
   "execution_count": 87,
   "metadata": {},
   "outputs": [
    {
     "name": "stdout",
     "output_type": "stream",
     "text": [
      "True\n"
     ]
    }
   ],
   "source": [
    "#Checking Prime \n",
    "def is_prime(n):\n",
    "    if n<=1:\n",
    "        return False\n",
    "    elif n<=3:\n",
    "        return True\n",
    "    elif n%2 ==0 or n%3==0:\n",
    "        return False\n",
    "    \n",
    "    i = 5\n",
    "    while i*i <=n:\n",
    "        if n%i ==0 or n%(i+2) == 0:\n",
    "            return False\n",
    "        i += 6\n",
    "    return True\n",
    "\n",
    "print(is_prime(101))"
   ]
  },
  {
   "cell_type": "code",
   "execution_count": 92,
   "metadata": {},
   "outputs": [
    {
     "name": "stdout",
     "output_type": "stream",
     "text": [
      "True\n"
     ]
    }
   ],
   "source": [
    "#Palindrome Checking \n",
    "\n",
    "def is_palindrome(s):\n",
    "    return s == s[::-1] #This will return True if the string is palindrome else False\n",
    "print(is_palindrome(\"madam\"))"
   ]
  },
  {
   "cell_type": "code",
   "execution_count": 93,
   "metadata": {},
   "outputs": [
    {
     "name": "stdout",
     "output_type": "stream",
     "text": [
      "[1, 10, 11, 20, 23, 32, 54, 77, 88]\n"
     ]
    }
   ],
   "source": [
    "#Sorting Function \n",
    "def sort_list(lst):\n",
    "    return sorted(lst)\n",
    "\n",
    "print(sort_list([11, 23, 1, 20, 77, 54, 88, 32, 10]))"
   ]
  },
  {
   "cell_type": "code",
   "execution_count": 94,
   "metadata": {},
   "outputs": [
    {
     "name": "stdout",
     "output_type": "stream",
     "text": [
      "arteN\n"
     ]
    }
   ],
   "source": [
    "#Reverse String Function \n",
    "def reverse_string(s):\n",
    "    return s[::-1] #This will return the reversed string\n",
    "print(reverse_string(\"Netra\"))"
   ]
  },
  {
   "cell_type": "code",
   "execution_count": 95,
   "metadata": {},
   "outputs": [
    {
     "name": "stdout",
     "output_type": "stream",
     "text": [
      "5\n"
     ]
    }
   ],
   "source": [
    "#length of String Function \n",
    "def lenght_string(s):\n",
    "    return len(s) #This will return the length of the string\n",
    "\n",
    "print(lenght_string(\"Netra\"))"
   ]
  },
  {
   "cell_type": "code",
   "execution_count": 96,
   "metadata": {},
   "outputs": [
    {
     "name": "stdout",
     "output_type": "stream",
     "text": [
      "NETRA\n"
     ]
    }
   ],
   "source": [
    "#Upercase String Function \n",
    "def uppercase_string(s):\n",
    "    return s.upper() #This will return the uppercase string\n",
    "\n",
    "print(uppercase_string(\"Netra\"))"
   ]
  },
  {
   "cell_type": "code",
   "execution_count": 97,
   "metadata": {},
   "outputs": [
    {
     "name": "stdout",
     "output_type": "stream",
     "text": [
      "netra\n"
     ]
    }
   ],
   "source": [
    "#Lowercase String Function\n",
    "def lowercase_string(s):\n",
    "    return s.lower() #This will return the lowercase string\n",
    "\n",
    "print(lowercase_string(\"Netra\"))"
   ]
  },
  {
   "cell_type": "code",
   "execution_count": 98,
   "metadata": {},
   "outputs": [
    {
     "name": "stdout",
     "output_type": "stream",
     "text": [
      "7\n"
     ]
    }
   ],
   "source": [
    "#Count Vowels Function \n",
    "def count_vowels(s):\n",
    "    vowels = \"aeiou\"\n",
    "    return len([char for char in s if char in vowels])\n",
    "\n",
    "print(count_vowels(\"Netra Kumar Manandhar\"))"
   ]
  },
  {
   "cell_type": "markdown",
   "metadata": {},
   "source": [
    "---------------"
   ]
  },
  {
   "cell_type": "markdown",
   "metadata": {},
   "source": [
    "# Complex Examples "
   ]
  },
  {
   "cell_type": "markdown",
   "metadata": {},
   "source": [
    "## Memoezation with decorators "
   ]
  },
  {
   "cell_type": "code",
   "execution_count": 100,
   "metadata": {},
   "outputs": [
    {
     "name": "stdout",
     "output_type": "stream",
     "text": [
      "55\n"
     ]
    }
   ],
   "source": [
    "def memoize(func):\n",
    "    cache = {}\n",
    "    def wraper(*args):\n",
    "        if args in cache:\n",
    "            return cache[args]\n",
    "        result = func(*args)\n",
    "        cache[args] = result \n",
    "        return result\n",
    "    return wraper\n",
    "@memoize\n",
    "def fibonacci(n):\n",
    "    if n in (0, 1):\n",
    "        return n\n",
    "    return fibonacci(n-1) + fibonacci(n-2)\n",
    "print(fibonacci(10))"
   ]
  },
  {
   "cell_type": "markdown",
   "metadata": {},
   "source": [
    "## Higer Order Function"
   ]
  },
  {
   "cell_type": "code",
   "execution_count": 104,
   "metadata": {},
   "outputs": [
    {
     "name": "stdout",
     "output_type": "stream",
     "text": [
      "301\n"
     ]
    }
   ],
   "source": [
    "def add(x):\n",
    "    return x**2 - 5*x + 1\n",
    "def apply_function(func, value):\n",
    "    return func(value)\n",
    "\n",
    "print(apply_function(add, 20))"
   ]
  },
  {
   "cell_type": "markdown",
   "metadata": {},
   "source": [
    "## Function with Multipe Decorators "
   ]
  },
  {
   "cell_type": "code",
   "execution_count": 105,
   "metadata": {},
   "outputs": [
    {
     "name": "stdout",
     "output_type": "stream",
     "text": [
      "<b><i>Hello, World!</i></b>\n"
     ]
    }
   ],
   "source": [
    "def bold(func):\n",
    "    def wrapper():\n",
    "        return f\"<b>{func()}</b>\"\n",
    "    return wrapper\n",
    "\n",
    "def italic(func):\n",
    "    def wrapper():\n",
    "        return f\"<i>{func()}</i>\"\n",
    "    return wrapper\n",
    "\n",
    "@bold\n",
    "@italic\n",
    "def greet():\n",
    "    return \"Hello, World!\"\n",
    "\n",
    "print(greet())\n"
   ]
  },
  {
   "cell_type": "markdown",
   "metadata": {},
   "source": [
    "## Function with Nested Functions and Closures "
   ]
  },
  {
   "cell_type": "code",
   "execution_count": 106,
   "metadata": {},
   "outputs": [
    {
     "name": "stdout",
     "output_type": "stream",
     "text": [
      "15\n"
     ]
    }
   ],
   "source": [
    "def make_multiplier(x):\n",
    "    def multiplier(n):\n",
    "        return x*n\n",
    "    return multiplier\n",
    "times_thee = make_multiplier(3)\n",
    "print(times_thee(5))"
   ]
  },
  {
   "cell_type": "markdown",
   "metadata": {},
   "source": [
    "## Function with Nested Loops"
   ]
  },
  {
   "cell_type": "code",
   "execution_count": 109,
   "metadata": {},
   "outputs": [
    {
     "name": "stdout",
     "output_type": "stream",
     "text": [
      "[0, 0, 0, 0]\n",
      "[0, 0, 0, 0]\n",
      "[0, 0, 0, 0]\n"
     ]
    }
   ],
   "source": [
    "def create_matrix(rows, cols):\n",
    "    return [[0 for _ in range(cols)] for _ in range(rows)]\n",
    "\n",
    "matrix = create_matrix(3, 4)\n",
    "for column in matrix:\n",
    "    print(column)"
   ]
  },
  {
   "cell_type": "markdown",
   "metadata": {},
   "source": [
    "## Function with Map, Filter, and Reduce"
   ]
  },
  {
   "cell_type": "code",
   "execution_count": 110,
   "metadata": {},
   "outputs": [
    {
     "name": "stdout",
     "output_type": "stream",
     "text": [
      "[1, 4, 9, 16, 25]\n",
      "[4, 16]\n",
      "20\n"
     ]
    }
   ],
   "source": [
    "from functools import reduce\n",
    "\n",
    "def add(x, y):\n",
    "    return x + y\n",
    "\n",
    "numbers = [1, 2, 3, 4, 5]\n",
    "squared = list(map(lambda x: x**2, numbers))\n",
    "even = list(filter(lambda x: x % 2 == 0, squared))\n",
    "total = reduce(add, even)\n",
    "\n",
    "print(squared)\n",
    "print(even)\n",
    "print(total)\n"
   ]
  },
  {
   "cell_type": "markdown",
   "metadata": {},
   "source": [
    "## Function nwith Custom Exception"
   ]
  },
  {
   "cell_type": "code",
   "execution_count": 111,
   "metadata": {},
   "outputs": [
    {
     "name": "stdout",
     "output_type": "stream",
     "text": [
      "Number should be positive\n"
     ]
    }
   ],
   "source": [
    "class NegativeNumberError(Exception):\n",
    "    pass\n",
    "\n",
    "def check_positive(number):\n",
    "    if number < 0:\n",
    "        raise NegativeNumberError(\"Number should be positive\")\n",
    "    return True \n",
    "\n",
    "try: \n",
    "    check_positive(-10)\n",
    "except NegativeNumberError as e:\n",
    "    print(e)"
   ]
  },
  {
   "cell_type": "code",
   "execution_count": null,
   "metadata": {},
   "outputs": [],
   "source": []
  }
 ],
 "metadata": {
  "kernelspec": {
   "display_name": "myenv",
   "language": "python",
   "name": "python3"
  },
  "language_info": {
   "codemirror_mode": {
    "name": "ipython",
    "version": 3
   },
   "file_extension": ".py",
   "mimetype": "text/x-python",
   "name": "python",
   "nbconvert_exporter": "python",
   "pygments_lexer": "ipython3",
   "version": "3.11.8"
  }
 },
 "nbformat": 4,
 "nbformat_minor": 2
}
