{
 "cells": [
  {
   "cell_type": "code",
   "execution_count": 1,
   "metadata": {},
   "outputs": [
    {
     "name": "stdout",
     "output_type": "stream",
     "text": [
      "[1, 4, 9, 16, 25, 36, 49, 64, 81, 100]\n"
     ]
    }
   ],
   "source": [
    "#Creating a list of square\n",
    "squares = [x**2 for x in range(1, 11)]\n",
    "print(squares)"
   ]
  },
  {
   "cell_type": "code",
   "execution_count": 2,
   "metadata": {},
   "outputs": [
    {
     "name": "stdout",
     "output_type": "stream",
     "text": [
      "[234, 3245354, 54675654, 45450, 3459835948359345782493556]\n"
     ]
    }
   ],
   "source": [
    "#Filter Even numbers \n",
    "numbers = [234, 2343, 3245354, 543543, 54675654, 45450, 3459835948359345782493556]\n",
    "even_numbers = [x for x in numbers if x%2==0]\n",
    "print(even_numbers)"
   ]
  },
  {
   "cell_type": "code",
   "execution_count": 3,
   "metadata": {},
   "outputs": [
    {
     "name": "stdout",
     "output_type": "stream",
     "text": [
      "['APPLE', 'BANANA', 'CHERRY']\n"
     ]
    }
   ],
   "source": [
    "#Create a list of upercase strings \n",
    "words = ['apple', 'banana', 'cherry']\n",
    "uppercase_words = [word.upper() for word in words]\n",
    "print(uppercase_words)"
   ]
  },
  {
   "cell_type": "code",
   "execution_count": 5,
   "metadata": {},
   "outputs": [
    {
     "name": "stdout",
     "output_type": "stream",
     "text": [
      "[2, 3, 4, 1, 2, 3, -1, -4, -7]\n"
     ]
    }
   ],
   "source": [
    "#Flatten a 2D list\n",
    "matrix = [[2, 3, 4], [1, 2, 3], [-1, -4, -7]]\n",
    "flattened = [item for row in matrix for item in row]\n",
    "print(flattened)"
   ]
  },
  {
   "cell_type": "code",
   "execution_count": 6,
   "metadata": {},
   "outputs": [
    {
     "name": "stdout",
     "output_type": "stream",
     "text": [
      "[('Netra', 5), ('kumar', 5), ('manandhar', 9)]\n"
     ]
    }
   ],
   "source": [
    "#Create a list of tupples\n",
    "names = ['Netra', 'kumar', 'manandhar']\n",
    "name_lengths = [(name, len(name)) for name in names]\n",
    "print(name_lengths)"
   ]
  },
  {
   "cell_type": "code",
   "execution_count": 7,
   "metadata": {},
   "outputs": [
    {
     "name": "stdout",
     "output_type": "stream",
     "text": [
      "[1, 3, 5, 7, 9, 11, 13, 15, 17, 19, 21]\n"
     ]
    }
   ],
   "source": [
    "#Generate a list of odd numbers\n",
    "odd_numbers = [x for x in range(1, 22)if x%2!=0]\n",
    "print(odd_numbers)"
   ]
  },
  {
   "cell_type": "code",
   "execution_count": 8,
   "metadata": {},
   "outputs": [
    {
     "name": "stdout",
     "output_type": "stream",
     "text": [
      "[1, 4, 3, 16, 5, 36, 7, 64]\n"
     ]
    }
   ],
   "source": [
    "#Conditional Expressions in the list\n",
    "numbers = [1, 2, 3, 4, 5, 6, 7, 8]\n",
    "squared_evens = [x**2 if x%2==0 else x for x in numbers]\n",
    "print(squared_evens)"
   ]
  },
  {
   "cell_type": "code",
   "execution_count": 9,
   "metadata": {},
   "outputs": [
    {
     "name": "stdout",
     "output_type": "stream",
     "text": [
      "[2, 3, 5, 7, 11, 13, 17, 19]\n"
     ]
    }
   ],
   "source": [
    "#Create a list of prime numbers \n",
    "def is_prime(n):\n",
    "    if n <= 1: \n",
    "        return False \n",
    "    for i in range(2, int(n**0.5)+1):\n",
    "        if n%i ==0:\n",
    "            return False\n",
    "    return True\n",
    "primes = [x for x in range (1, 20) if is_prime(x)]\n",
    "print(primes)"
   ]
  },
  {
   "cell_type": "code",
   "execution_count": null,
   "metadata": {},
   "outputs": [],
   "source": []
  }
 ],
 "metadata": {
  "kernelspec": {
   "display_name": "Python 3",
   "language": "python",
   "name": "python3"
  },
  "language_info": {
   "codemirror_mode": {
    "name": "ipython",
    "version": 3
   },
   "file_extension": ".py",
   "mimetype": "text/x-python",
   "name": "python",
   "nbconvert_exporter": "python",
   "pygments_lexer": "ipython3",
   "version": "3.11.4"
  },
  "orig_nbformat": 4
 },
 "nbformat": 4,
 "nbformat_minor": 2
}
