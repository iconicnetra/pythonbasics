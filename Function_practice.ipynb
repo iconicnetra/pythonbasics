{
 "cells": [
  {
   "cell_type": "markdown",
   "metadata": {},
   "source": [
    "Python Functions "
   ]
  },
  {
   "cell_type": "code",
   "execution_count": 1,
   "metadata": {},
   "outputs": [],
   "source": [
    "def isGreater(a, b):\n",
    "    if(a > b):\n",
    "        print(\"First Number is greater\")\n",
    "    else:\n",
    "        print(\"Second Number is greater\")\n",
    "a = 20\n",
    "b = 100"
   ]
  },
  {
   "cell_type": "code",
   "execution_count": 3,
   "metadata": {},
   "outputs": [
    {
     "name": "stdout",
     "output_type": "stream",
     "text": [
      "False True\n"
     ]
    }
   ],
   "source": [
    "def is_prime(n):\n",
    "    if n in [2, 3]: \n",
    "        return True\n",
    "    if (n ==1) or (n % 2 == 0):\n",
    "        return False\n",
    "    r = 3\n",
    "    while r*r <= n: \n",
    "        if n % r ==0:\n",
    "            return False\n",
    "        r += 2\n",
    "    return True\n",
    "print(is_prime(88), is_prime(79))"
   ]
  },
  {
   "cell_type": "code",
   "execution_count": null,
   "metadata": {},
   "outputs": [],
   "source": []
  }
 ],
 "metadata": {
  "kernelspec": {
   "display_name": "myenv",
   "language": "python",
   "name": "python3"
  },
  "language_info": {
   "codemirror_mode": {
    "name": "ipython",
    "version": 3
   },
   "file_extension": ".py",
   "mimetype": "text/x-python",
   "name": "python",
   "nbconvert_exporter": "python",
   "pygments_lexer": "ipython3",
   "version": "3.11.6"
  }
 },
 "nbformat": 4,
 "nbformat_minor": 2
}
