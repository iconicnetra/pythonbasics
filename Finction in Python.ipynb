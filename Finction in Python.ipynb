{
 "cells": [
  {
   "cell_type": "code",
   "execution_count": 4,
   "metadata": {},
   "outputs": [],
   "source": [
    "#Basics\n",
    "a = 20\n",
    "b = 30\n",
    "def add (a, b):\n",
    "    sum = a + b\n",
    "    return sum"
   ]
  },
  {
   "cell_type": "code",
   "execution_count": 5,
   "metadata": {},
   "outputs": [
    {
     "name": "stdout",
     "output_type": "stream",
     "text": [
      "Hello, Netra Kumar Manandhar\n"
     ]
    }
   ],
   "source": [
    "# Function with parameters\n",
    "def greet(name):\n",
    "    print(f\"Hello, {name}\")\n",
    "greet(\"Netra Kumar Manandhar\")"
   ]
  },
  {
   "cell_type": "code",
   "execution_count": 6,
   "metadata": {},
   "outputs": [
    {
     "name": "stdout",
     "output_type": "stream",
     "text": [
      "Hello, I am 50 years old\n",
      "Hello, I am 70 years old\n"
     ]
    }
   ],
   "source": [
    "def a(age):\n",
    "    print(f\"Hello, I am {age} years old\")\n",
    "a(50)\n",
    "a(70)"
   ]
  },
  {
   "cell_type": "code",
   "execution_count": 7,
   "metadata": {},
   "outputs": [
    {
     "name": "stdout",
     "output_type": "stream",
     "text": [
      "6464986846945100\n",
      "8712\n"
     ]
    }
   ],
   "source": [
    "#Functions with default parameters\n",
    "def multiply(a, b = 64649868469451):\n",
    "    return a*b\n",
    "result = multiply(100)\n",
    "print(result)\n",
    "result = multiply(88, 99) #overrides default value of b\n",
    "print(result)"
   ]
  },
  {
   "cell_type": "code",
   "execution_count": 8,
   "metadata": {},
   "outputs": [
    {
     "name": "stdout",
     "output_type": "stream",
     "text": [
      "2870\n"
     ]
    }
   ],
   "source": [
    "result = multiply(10, 287)\n",
    "print(result)"
   ]
  },
  {
   "cell_type": "code",
   "execution_count": 9,
   "metadata": {},
   "outputs": [
    {
     "name": "stdout",
     "output_type": "stream",
     "text": [
      "25777\n"
     ]
    }
   ],
   "source": [
    "#Return Values \n",
    "def add(a, b):\n",
    "    return a + b\n",
    "sum_result = add(2343, 23434)\n",
    "print(sum_result)"
   ]
  },
  {
   "cell_type": "code",
   "execution_count": 10,
   "metadata": {},
   "outputs": [
    {
     "name": "stdout",
     "output_type": "stream",
     "text": [
      "Establish connection ftp://www.def.org\n",
      "Open Connection ftp://www.def.org\n",
      "Download Data\n",
      "Log to DB ftp://www.def.org\n",
      "Close Connectionftp://www.def.org\n"
     ]
    }
   ],
   "source": [
    "def downloadFile(url):\n",
    "    print(\"Establish connection \" + url)\n",
    "    print(\"Open Connection \" + url)\n",
    "    print(\"Download Data\")\n",
    "    print(\"Log to DB \" + url)\n",
    "    print(\"Close Connection\" + url)\n",
    "downloadFile(\"ftp://www.def.org\")"
   ]
  },
  {
   "cell_type": "code",
   "execution_count": 11,
   "metadata": {},
   "outputs": [
    {
     "name": "stdout",
     "output_type": "stream",
     "text": [
      "288189\n"
     ]
    }
   ],
   "source": [
    "def multiply(x , y):\n",
    "    return x * y\n",
    "print(multiply(123, 2343))"
   ]
  },
  {
   "cell_type": "code",
   "execution_count": 12,
   "metadata": {},
   "outputs": [
    {
     "name": "stdout",
     "output_type": "stream",
     "text": [
      "Hello, I am Netra Kumar Manandhar and I am 33 years old.\n"
     ]
    }
   ],
   "source": [
    "#Functions with multiple parameters \n",
    "def greet_with_age(name, age):\n",
    "    print(f\"Hello, I am {name} and I am {age} years old.\")\n",
    "greet_with_age(\"Netra Kumar Manandhar\", 33)"
   ]
  },
  {
   "cell_type": "code",
   "execution_count": 13,
   "metadata": {},
   "outputs": [
    {
     "name": "stdout",
     "output_type": "stream",
     "text": [
      "True\n",
      "False\n"
     ]
    }
   ],
   "source": [
    "#Function with conditional return\n",
    "def is_even(number):\n",
    "    return number % 2 ==0\n",
    "print(is_even(10))\n",
    "print(is_even(11))"
   ]
  },
  {
   "cell_type": "code",
   "execution_count": 14,
   "metadata": {},
   "outputs": [
    {
     "name": "stdout",
     "output_type": "stream",
     "text": [
      "{'name': 'Netra', 'age': 33, 'city': 'Los Angeles'}\n"
     ]
    }
   ],
   "source": [
    "#Functions with multiple return values\n",
    "def get_person_info(name, age, city):\n",
    "    return {\"name\": name, \"age\": age, \"city\": city}\n",
    "person_info = get_person_info(\"Netra\", 33, \"Los Angeles\")\n",
    "print(person_info)"
   ]
  },
  {
   "cell_type": "code",
   "execution_count": 15,
   "metadata": {},
   "outputs": [
    {
     "name": "stdout",
     "output_type": "stream",
     "text": [
      "5040\n",
      "1\n"
     ]
    }
   ],
   "source": [
    "def factorial(n):\n",
    "    if n ==0 or n ==1:\n",
    "        return 1\n",
    "    else:\n",
    "        return n * factorial(n-1)\n",
    "print(factorial(7))\n",
    "print(factorial(0))"
   ]
  },
  {
   "cell_type": "code",
   "execution_count": 16,
   "metadata": {},
   "outputs": [
    {
     "name": "stdout",
     "output_type": "stream",
     "text": [
      "Hello\n",
      "Good Morning\n"
     ]
    }
   ],
   "source": [
    "def greet():\n",
    "    print(\"Hello\")\n",
    "    print(\"Good Morning\")\n",
    "\n",
    "greet()\n"
   ]
  },
  {
   "cell_type": "code",
   "execution_count": 31,
   "metadata": {},
   "outputs": [
    {
     "name": "stdout",
     "output_type": "stream",
     "text": [
      "<function calculateGmean at 0x0000017D8275A340>\n"
     ]
    }
   ],
   "source": [
    "import math\n",
    "a = 10\n",
    "b = 30\n",
    "def calculateGmean(a, b):\n",
    "   return math.sqrt(a*b)\n",
    "print(calculateGmean)"
   ]
  },
  {
   "cell_type": "code",
   "execution_count": 30,
   "metadata": {},
   "outputs": [],
   "source": [
    "\n",
    "def isGreater(a, b):\n",
    "    if (a > b):\n",
    "        print(\"First Number is greater\")\n",
    "    else:\n",
    "        print(\"Second Number is Greater\")\n",
    "a = 100\n",
    "b = 200"
   ]
  },
  {
   "cell_type": "code",
   "execution_count": 33,
   "metadata": {},
   "outputs": [],
   "source": [
    "def calculateGmean(a, b):\n",
    "    mean = (a*b)/(a + b)\n",
    "    print(mean)\n",
    "\n",
    "a = 10\n",
    "b = 100"
   ]
  },
  {
   "cell_type": "code",
   "execution_count": null,
   "metadata": {},
   "outputs": [],
   "source": []
  }
 ],
 "metadata": {
  "kernelspec": {
   "display_name": "Python 3",
   "language": "python",
   "name": "python3"
  },
  "language_info": {
   "codemirror_mode": {
    "name": "ipython",
    "version": 3
   },
   "file_extension": ".py",
   "mimetype": "text/x-python",
   "name": "python",
   "nbconvert_exporter": "python",
   "pygments_lexer": "ipython3",
   "version": "3.11.6"
  },
  "orig_nbformat": 4
 },
 "nbformat": 4,
 "nbformat_minor": 2
}
