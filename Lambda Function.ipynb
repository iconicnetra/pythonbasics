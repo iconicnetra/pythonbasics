{
 "cells": [
  {
   "cell_type": "code",
   "execution_count": 5,
   "metadata": {},
   "outputs": [
    {
     "name": "stdout",
     "output_type": "stream",
     "text": [
      "3025\n"
     ]
    }
   ],
   "source": [
    "#Basic Lambda Function\n",
    "square = lambda x: x**2\n",
    "result = square(int(input(\"Enter the number\")))\n",
    "print(result)"
   ]
  },
  {
   "cell_type": "code",
   "execution_count": 7,
   "metadata": {},
   "outputs": [
    {
     "name": "stdout",
     "output_type": "stream",
     "text": [
      "220\n"
     ]
    }
   ],
   "source": [
    "#Lambda Function with Multiple Arguments \n",
    "addition = lambda x, y, z: x + y + z\n",
    "result1 = int(input(\"Enter the value for x\"))\n",
    "result2 = int(input(\"Enter the value for y\"))\n",
    "result3 = int(input(\"Enter the value for z\"))\n",
    "result = addition(result1, result2, result3)\n",
    "print(result)"
   ]
  },
  {
   "cell_type": "code",
   "execution_count": 8,
   "metadata": {},
   "outputs": [
    {
     "name": "stdout",
     "output_type": "stream",
     "text": [
      "72\n"
     ]
    }
   ],
   "source": [
    "multiply = lambda x, y: x*y\n",
    "result = multiply(9, 8)\n",
    "print(result)"
   ]
  },
  {
   "cell_type": "code",
   "execution_count": 10,
   "metadata": {},
   "outputs": [
    {
     "name": "stdout",
     "output_type": "stream",
     "text": [
      "[('Bob', 25), ('Bibek', 29), ('Netra', 33)]\n"
     ]
    }
   ],
   "source": [
    "#Sorting Element\n",
    "#From a list of tuples\n",
    "people = [('Netra', 33), ('Bob', 25), ('Bibek', 29)]\n",
    "# Sorting the list based on the second element of each tuple (age)\n",
    "sorted_people = sorted(people, key = lambda person: person[1])\n",
    "print(sorted_people)"
   ]
  },
  {
   "cell_type": "code",
   "execution_count": 12,
   "metadata": {},
   "outputs": [
    {
     "name": "stdout",
     "output_type": "stream",
     "text": [
      "[12, 5234234]\n",
      "[2343, 234343, 234325423]\n"
     ]
    }
   ],
   "source": [
    "#Lambda Function in Foltering system\n",
    "numbers = [12, 2343, 234343, 5234234, 234325423]\n",
    "#To filter even numbers\n",
    "even_numbers = list(filter(lambda x: x%2 == 0, numbers))\n",
    "print(even_numbers)\n",
    "odd_numbers = list(filter(lambda x: x%2==1, numbers))\n",
    "print(odd_numbers)"
   ]
  },
  {
   "cell_type": "code",
   "execution_count": 13,
   "metadata": {},
   "outputs": [
    {
     "name": "stdout",
     "output_type": "stream",
     "text": [
      "[1, 4, 9, 16, 25, 36, 49, 64, 81, 100]\n"
     ]
    }
   ],
   "source": [
    "#Lambda Function in Mapping\n",
    "numbers = [1, 2, 3, 4, 5, 6, 7, 8, 9, 10]\n",
    "squared_numbers = list(map(lambda x: x**2, numbers))\n",
    "print(squared_numbers)"
   ]
  },
  {
   "cell_type": "code",
   "execution_count": 17,
   "metadata": {},
   "outputs": [
    {
     "name": "stdout",
     "output_type": "stream",
     "text": [
      "Even\n"
     ]
    }
   ],
   "source": [
    "#Lambda Function with Conditional Statements \n",
    "is_even = lambda x: \"Even\" if x%2==0 else \"odd\"\n",
    "result = is_even(int(input(\"Enter the number\")))\n",
    "print(result)"
   ]
  },
  {
   "cell_type": "code",
   "execution_count": 18,
   "metadata": {},
   "outputs": [
    {
     "name": "stdout",
     "output_type": "stream",
     "text": [
      "Odd\n"
     ]
    }
   ],
   "source": [
    "is_odd = lambda x: \"Odd\" if x%2==1 else \"Even\"\n",
    "result = is_odd(int(input('Enter the number')))\n",
    "print(result)"
   ]
  },
  {
   "cell_type": "code",
   "execution_count": 19,
   "metadata": {},
   "outputs": [
    {
     "name": "stdout",
     "output_type": "stream",
     "text": [
      "arteN ,olleH\n"
     ]
    }
   ],
   "source": [
    "#Lambda for String Manipulation\n",
    "reverse_string = lambda s: s[::-1]\n",
    "text = \"Hello, Netra\"\n",
    "reversed_text = reverse_string(text)\n",
    "print(reversed_text)"
   ]
  },
  {
   "cell_type": "code",
   "execution_count": 20,
   "metadata": {},
   "outputs": [
    {
     "name": "stdout",
     "output_type": "stream",
     "text": [
      "{'Bob': 25, 'Alice': 30, 'Charlie': 35}\n"
     ]
    }
   ],
   "source": [
    "# A dictionary of names and ages\n",
    "people = {'Alice': 30, 'Bob': 25, 'Charlie': 35}\n",
    "\n",
    "# Sorting the dictionary by age\n",
    "sorted_people = dict(sorted(people.items(), key=lambda item: item[1]))\n",
    "\n",
    "print(sorted_people)\n",
    "# Output: {'Bob': 25, 'Alice': 30, 'Charlie': 35}"
   ]
  },
  {
   "cell_type": "code",
   "execution_count": 21,
   "metadata": {},
   "outputs": [
    {
     "name": "stdout",
     "output_type": "stream",
     "text": [
      "[2, 4, 6]\n"
     ]
    }
   ],
   "source": [
    "#Lambda for List Comprehension\n",
    "numbers = [1, 2, 3, 4, 5, 6, 7]\n",
    "even_numbers = [x for x in numbers if (lambda x:x%2==0)(x)]\n",
    "print(even_numbers)"
   ]
  },
  {
   "cell_type": "code",
   "execution_count": 5,
   "metadata": {},
   "outputs": [
    {
     "name": "stdout",
     "output_type": "stream",
     "text": [
      "Netra Manandhar Kumar\n"
     ]
    }
   ],
   "source": [
    "name = \"Netra Manandhar\"\n",
    "last_name = \"Kumar\"\n",
    "print(name + \" \" + last_name)"
   ]
  },
  {
   "cell_type": "code",
   "execution_count": 7,
   "metadata": {},
   "outputs": [
    {
     "name": "stdout",
     "output_type": "stream",
     "text": [
      "[2, 3, 5, 7, 11, 13]\n"
     ]
    }
   ],
   "source": [
    "#Finding a prime number\n",
    "is_prime = lambda x: all(x%i!=0 for i in range(2, int(x**0.5)+1)) and x>1\n",
    "numbers = [1, 2, 3, 4, 5, 6, 7, 8, 9, 10, 11, 12, 13]\n",
    "prime_numbers = list(filter(is_prime, numbers))\n",
    "print(prime_numbers)"
   ]
  },
  {
   "cell_type": "code",
   "execution_count": null,
   "metadata": {},
   "outputs": [],
   "source": []
  }
 ],
 "metadata": {
  "kernelspec": {
   "display_name": "Python 3",
   "language": "python",
   "name": "python3"
  },
  "language_info": {
   "codemirror_mode": {
    "name": "ipython",
    "version": 3
   },
   "file_extension": ".py",
   "mimetype": "text/x-python",
   "name": "python",
   "nbconvert_exporter": "python",
   "pygments_lexer": "ipython3",
   "version": "3.11.4"
  },
  "orig_nbformat": 4
 },
 "nbformat": 4,
 "nbformat_minor": 2
}
